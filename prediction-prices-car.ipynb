{
 "cells": [
  {
   "cell_type": "markdown",
   "id": "21f3c5e7",
   "metadata": {
    "papermill": {
     "duration": 0.01137,
     "end_time": "2024-02-11T20:27:10.104674",
     "exception": false,
     "start_time": "2024-02-11T20:27:10.093304",
     "status": "completed"
    },
    "tags": []
   },
   "source": [
    "\n",
    "# <p><center style=\"background-color:#d896ff;font-family:Gabriola;color:#660000;font-size:210%;text-align:center;border-radius:10px 70px;\">   Prediction Prices - Car </center></p>"
   ]
  },
  {
   "cell_type": "markdown",
   "id": "8a72a3f7",
   "metadata": {
    "papermill": {
     "duration": 0.010069,
     "end_time": "2024-02-11T20:27:10.125321",
     "exception": false,
     "start_time": "2024-02-11T20:27:10.115252",
     "status": "completed"
    },
    "tags": []
   },
   "source": [
    "# <p style=\"padding:10px;background-color:#d896ff;margin:0;color:#660066;font-family:newtimeroman;font-size:100%;text-align:center;border-radius: 15px 50px;overflow:hidden;font-weight:500\">Table of Contents 🔠</p>"
   ]
  },
  {
   "cell_type": "markdown",
   "id": "a653a4b3",
   "metadata": {
    "papermill": {
     "duration": 0.010614,
     "end_time": "2024-02-11T20:27:10.146921",
     "exception": false,
     "start_time": "2024-02-11T20:27:10.136307",
     "status": "completed"
    },
    "tags": []
   },
   "source": [
    "# About The DataSet\n",
    "\n",
    "- The dataset used in this analysis contains information about car prices and their associated features. Here's a brief overview of the dataset:\n",
    "\n",
    "#### Columns: The dataset consists of several columns including:\n",
    "\n",
    "- Make: The brand or manufacturer of the car (e.g., Toyota, Honda, Ford).\n",
    "- Model: The specific model of the car (e.g., Camry, Civic, F-150).\n",
    "- Year: The manufacturing year of the car.\n",
    "- Mileage: The total mileage (in miles) of the car.\n",
    "- Condition: The condition of the car, categorized as Excellent, Good, or Fair.\n",
    "- Price: The price of the car."
   ]
  },
  {
   "cell_type": "markdown",
   "id": "7299eecf",
   "metadata": {
    "papermill": {
     "duration": 0.009882,
     "end_time": "2024-02-11T20:27:10.168174",
     "exception": false,
     "start_time": "2024-02-11T20:27:10.158292",
     "status": "completed"
    },
    "tags": []
   },
   "source": [
    "### The Mission 🎈 :\n",
    "- Make the Analysis\n",
    "- Make ML- Model - Prediction "
   ]
  },
  {
   "cell_type": "code",
   "execution_count": 1,
   "id": "76863b48",
   "metadata": {
    "execution": {
     "iopub.execute_input": "2024-02-11T20:27:10.190024Z",
     "iopub.status.busy": "2024-02-11T20:27:10.189682Z",
     "iopub.status.idle": "2024-02-11T20:27:13.368362Z",
     "shell.execute_reply": "2024-02-11T20:27:13.367456Z"
    },
    "papermill": {
     "duration": 3.192362,
     "end_time": "2024-02-11T20:27:13.370687",
     "exception": false,
     "start_time": "2024-02-11T20:27:10.178325",
     "status": "completed"
    },
    "tags": []
   },
   "outputs": [],
   "source": [
    "#Importing the basic librarires for analysis\n",
    "\n",
    "import numpy as np\n",
    "import pandas as pd\n",
    "import seaborn as sns\n",
    "import matplotlib.pyplot as plt\n",
    "plt.style.use(\"ggplot\")  #using style ggplot\n",
    "\n",
    "%matplotlib inline\n",
    "import plotly.express as px\n"
   ]
  },
  {
   "cell_type": "code",
   "execution_count": 2,
   "id": "a09fbcc8",
   "metadata": {
    "execution": {
     "iopub.execute_input": "2024-02-11T20:27:13.394002Z",
     "iopub.status.busy": "2024-02-11T20:27:13.393392Z",
     "iopub.status.idle": "2024-02-11T20:27:13.433271Z",
     "shell.execute_reply": "2024-02-11T20:27:13.431899Z"
    },
    "papermill": {
     "duration": 0.054471,
     "end_time": "2024-02-11T20:27:13.436020",
     "exception": false,
     "start_time": "2024-02-11T20:27:13.381549",
     "status": "completed"
    },
    "tags": []
   },
   "outputs": [
    {
     "data": {
      "text/html": [
       "<div>\n",
       "<style scoped>\n",
       "    .dataframe tbody tr th:only-of-type {\n",
       "        vertical-align: middle;\n",
       "    }\n",
       "\n",
       "    .dataframe tbody tr th {\n",
       "        vertical-align: top;\n",
       "    }\n",
       "\n",
       "    .dataframe thead th {\n",
       "        text-align: right;\n",
       "    }\n",
       "</style>\n",
       "<table border=\"1\" class=\"dataframe\">\n",
       "  <thead>\n",
       "    <tr style=\"text-align: right;\">\n",
       "      <th></th>\n",
       "      <th>Unnamed: 0</th>\n",
       "      <th>Make</th>\n",
       "      <th>Model</th>\n",
       "      <th>Year</th>\n",
       "      <th>Mileage</th>\n",
       "      <th>Condition</th>\n",
       "      <th>Price</th>\n",
       "    </tr>\n",
       "  </thead>\n",
       "  <tbody>\n",
       "    <tr>\n",
       "      <th>0</th>\n",
       "      <td>0</td>\n",
       "      <td>Ford</td>\n",
       "      <td>Silverado</td>\n",
       "      <td>2022</td>\n",
       "      <td>18107</td>\n",
       "      <td>Excellent</td>\n",
       "      <td>19094.75</td>\n",
       "    </tr>\n",
       "    <tr>\n",
       "      <th>1</th>\n",
       "      <td>1</td>\n",
       "      <td>Toyota</td>\n",
       "      <td>Silverado</td>\n",
       "      <td>2014</td>\n",
       "      <td>13578</td>\n",
       "      <td>Excellent</td>\n",
       "      <td>27321.10</td>\n",
       "    </tr>\n",
       "    <tr>\n",
       "      <th>2</th>\n",
       "      <td>2</td>\n",
       "      <td>Chevrolet</td>\n",
       "      <td>Civic</td>\n",
       "      <td>2016</td>\n",
       "      <td>46054</td>\n",
       "      <td>Good</td>\n",
       "      <td>23697.30</td>\n",
       "    </tr>\n",
       "    <tr>\n",
       "      <th>3</th>\n",
       "      <td>3</td>\n",
       "      <td>Ford</td>\n",
       "      <td>Civic</td>\n",
       "      <td>2022</td>\n",
       "      <td>34981</td>\n",
       "      <td>Excellent</td>\n",
       "      <td>18251.05</td>\n",
       "    </tr>\n",
       "    <tr>\n",
       "      <th>4</th>\n",
       "      <td>4</td>\n",
       "      <td>Chevrolet</td>\n",
       "      <td>Civic</td>\n",
       "      <td>2019</td>\n",
       "      <td>63565</td>\n",
       "      <td>Excellent</td>\n",
       "      <td>19821.85</td>\n",
       "    </tr>\n",
       "  </tbody>\n",
       "</table>\n",
       "</div>"
      ],
      "text/plain": [
       "   Unnamed: 0       Make      Model  Year  Mileage  Condition     Price\n",
       "0           0       Ford  Silverado  2022    18107  Excellent  19094.75\n",
       "1           1     Toyota  Silverado  2014    13578  Excellent  27321.10\n",
       "2           2  Chevrolet      Civic  2016    46054       Good  23697.30\n",
       "3           3       Ford      Civic  2022    34981  Excellent  18251.05\n",
       "4           4  Chevrolet      Civic  2019    63565  Excellent  19821.85"
      ]
     },
     "execution_count": 2,
     "metadata": {},
     "output_type": "execute_result"
    }
   ],
   "source": [
    "#Importing the dataset\n",
    "\n",
    "df=pd.read_csv(\"/kaggle/input/car-prices-prediction-data/CarPricesPrediction.csv\")\n",
    "\n",
    "# look the dataset\n",
    "df.head()"
   ]
  },
  {
   "cell_type": "markdown",
   "id": "a4d6ca0e",
   "metadata": {
    "papermill": {
     "duration": 0.010052,
     "end_time": "2024-02-11T20:27:13.457261",
     "exception": false,
     "start_time": "2024-02-11T20:27:13.447209",
     "status": "completed"
    },
    "tags": []
   },
   "source": [
    "<a id=\"2\"></a>\n",
    "# <p style=\"padding:10px;background-color:#d896ff;margin:0;color:#660066;font-family:newtimeroman;font-size:100%;text-align:center;border-radius: 15px 50px;overflow:hidden;font-weight:500\">1️⃣ Explore the Data and Make Preprocess </p>"
   ]
  },
  {
   "cell_type": "code",
   "execution_count": 3,
   "id": "022c466e",
   "metadata": {
    "execution": {
     "iopub.execute_input": "2024-02-11T20:27:13.480982Z",
     "iopub.status.busy": "2024-02-11T20:27:13.479635Z",
     "iopub.status.idle": "2024-02-11T20:27:13.495121Z",
     "shell.execute_reply": "2024-02-11T20:27:13.493384Z"
    },
    "papermill": {
     "duration": 0.030444,
     "end_time": "2024-02-11T20:27:13.498122",
     "exception": false,
     "start_time": "2024-02-11T20:27:13.467678",
     "status": "completed"
    },
    "tags": []
   },
   "outputs": [],
   "source": [
    "# remove the first column - no need\n",
    "\n",
    "df.drop(columns=\"Unnamed: 0\",axis=1, inplace=True)"
   ]
  },
  {
   "cell_type": "code",
   "execution_count": 4,
   "id": "25024287",
   "metadata": {
    "execution": {
     "iopub.execute_input": "2024-02-11T20:27:13.521005Z",
     "iopub.status.busy": "2024-02-11T20:27:13.520594Z",
     "iopub.status.idle": "2024-02-11T20:27:13.546580Z",
     "shell.execute_reply": "2024-02-11T20:27:13.545336Z"
    },
    "papermill": {
     "duration": 0.04034,
     "end_time": "2024-02-11T20:27:13.549128",
     "exception": false,
     "start_time": "2024-02-11T20:27:13.508788",
     "status": "completed"
    },
    "tags": []
   },
   "outputs": [
    {
     "name": "stdout",
     "output_type": "stream",
     "text": [
      "<class 'pandas.core.frame.DataFrame'>\n",
      "RangeIndex: 1000 entries, 0 to 999\n",
      "Data columns (total 6 columns):\n",
      " #   Column     Non-Null Count  Dtype  \n",
      "---  ------     --------------  -----  \n",
      " 0   Make       1000 non-null   object \n",
      " 1   Model      1000 non-null   object \n",
      " 2   Year       1000 non-null   int64  \n",
      " 3   Mileage    1000 non-null   int64  \n",
      " 4   Condition  1000 non-null   object \n",
      " 5   Price      1000 non-null   float64\n",
      "dtypes: float64(1), int64(2), object(3)\n",
      "memory usage: 47.0+ KB\n"
     ]
    }
   ],
   "source": [
    "# check the data type \n",
    "df.info()"
   ]
  },
  {
   "cell_type": "markdown",
   "id": "81eafed7",
   "metadata": {
    "papermill": {
     "duration": 0.01034,
     "end_time": "2024-02-11T20:27:13.571457",
     "exception": false,
     "start_time": "2024-02-11T20:27:13.561117",
     "status": "completed"
    },
    "tags": []
   },
   "source": [
    "- 📑 we have data type object and int, float, when start ML all this object should be converted  to number "
   ]
  },
  {
   "cell_type": "code",
   "execution_count": 5,
   "id": "3b2b191c",
   "metadata": {
    "execution": {
     "iopub.execute_input": "2024-02-11T20:27:13.593993Z",
     "iopub.status.busy": "2024-02-11T20:27:13.593657Z",
     "iopub.status.idle": "2024-02-11T20:27:13.601400Z",
     "shell.execute_reply": "2024-02-11T20:27:13.600053Z"
    },
    "papermill": {
     "duration": 0.021886,
     "end_time": "2024-02-11T20:27:13.603708",
     "exception": false,
     "start_time": "2024-02-11T20:27:13.581822",
     "status": "completed"
    },
    "tags": []
   },
   "outputs": [
    {
     "data": {
      "text/plain": [
       "Make         0\n",
       "Model        0\n",
       "Year         0\n",
       "Mileage      0\n",
       "Condition    0\n",
       "Price        0\n",
       "dtype: int64"
      ]
     },
     "execution_count": 5,
     "metadata": {},
     "output_type": "execute_result"
    }
   ],
   "source": [
    "# check the missing value - Null \n",
    "df.isna().sum()"
   ]
  },
  {
   "cell_type": "markdown",
   "id": "660a6bab",
   "metadata": {
    "papermill": {
     "duration": 0.010089,
     "end_time": "2024-02-11T20:27:13.624597",
     "exception": false,
     "start_time": "2024-02-11T20:27:13.614508",
     "status": "completed"
    },
    "tags": []
   },
   "source": [
    "- 📄 No any missing data / missing value "
   ]
  },
  {
   "cell_type": "code",
   "execution_count": 6,
   "id": "72f795fe",
   "metadata": {
    "execution": {
     "iopub.execute_input": "2024-02-11T20:27:13.647780Z",
     "iopub.status.busy": "2024-02-11T20:27:13.646939Z",
     "iopub.status.idle": "2024-02-11T20:27:13.668761Z",
     "shell.execute_reply": "2024-02-11T20:27:13.667563Z"
    },
    "papermill": {
     "duration": 0.035474,
     "end_time": "2024-02-11T20:27:13.670590",
     "exception": false,
     "start_time": "2024-02-11T20:27:13.635116",
     "status": "completed"
    },
    "tags": []
   },
   "outputs": [
    {
     "data": {
      "text/html": [
       "<div>\n",
       "<style scoped>\n",
       "    .dataframe tbody tr th:only-of-type {\n",
       "        vertical-align: middle;\n",
       "    }\n",
       "\n",
       "    .dataframe tbody tr th {\n",
       "        vertical-align: top;\n",
       "    }\n",
       "\n",
       "    .dataframe thead th {\n",
       "        text-align: right;\n",
       "    }\n",
       "</style>\n",
       "<table border=\"1\" class=\"dataframe\">\n",
       "  <thead>\n",
       "    <tr style=\"text-align: right;\">\n",
       "      <th></th>\n",
       "      <th>Year</th>\n",
       "      <th>Mileage</th>\n",
       "      <th>Price</th>\n",
       "    </tr>\n",
       "  </thead>\n",
       "  <tbody>\n",
       "    <tr>\n",
       "      <th>count</th>\n",
       "      <td>1000.00</td>\n",
       "      <td>1000.00</td>\n",
       "      <td>1000.00</td>\n",
       "    </tr>\n",
       "    <tr>\n",
       "      <th>mean</th>\n",
       "      <td>2015.86</td>\n",
       "      <td>78796.93</td>\n",
       "      <td>22195.21</td>\n",
       "    </tr>\n",
       "    <tr>\n",
       "      <th>std</th>\n",
       "      <td>3.78</td>\n",
       "      <td>39842.26</td>\n",
       "      <td>4245.19</td>\n",
       "    </tr>\n",
       "    <tr>\n",
       "      <th>min</th>\n",
       "      <td>2010.00</td>\n",
       "      <td>10079.00</td>\n",
       "      <td>12613.00</td>\n",
       "    </tr>\n",
       "    <tr>\n",
       "      <th>25%</th>\n",
       "      <td>2013.00</td>\n",
       "      <td>44942.75</td>\n",
       "      <td>18961.86</td>\n",
       "    </tr>\n",
       "    <tr>\n",
       "      <th>50%</th>\n",
       "      <td>2016.00</td>\n",
       "      <td>78056.50</td>\n",
       "      <td>22247.88</td>\n",
       "    </tr>\n",
       "    <tr>\n",
       "      <th>75%</th>\n",
       "      <td>2019.00</td>\n",
       "      <td>112366.25</td>\n",
       "      <td>25510.28</td>\n",
       "    </tr>\n",
       "    <tr>\n",
       "      <th>max</th>\n",
       "      <td>2022.00</td>\n",
       "      <td>149794.00</td>\n",
       "      <td>31414.90</td>\n",
       "    </tr>\n",
       "  </tbody>\n",
       "</table>\n",
       "</div>"
      ],
      "text/plain": [
       "          Year    Mileage     Price\n",
       "count  1000.00    1000.00   1000.00\n",
       "mean   2015.86   78796.93  22195.21\n",
       "std       3.78   39842.26   4245.19\n",
       "min    2010.00   10079.00  12613.00\n",
       "25%    2013.00   44942.75  18961.86\n",
       "50%    2016.00   78056.50  22247.88\n",
       "75%    2019.00  112366.25  25510.28\n",
       "max    2022.00  149794.00  31414.90"
      ]
     },
     "execution_count": 6,
     "metadata": {},
     "output_type": "execute_result"
    }
   ],
   "source": [
    "# let show the describe the numeric feature \n",
    "df.describe().round(2)"
   ]
  },
  {
   "cell_type": "code",
   "execution_count": 7,
   "id": "e1616315",
   "metadata": {
    "execution": {
     "iopub.execute_input": "2024-02-11T20:27:13.695775Z",
     "iopub.status.busy": "2024-02-11T20:27:13.695239Z",
     "iopub.status.idle": "2024-02-11T20:27:13.702088Z",
     "shell.execute_reply": "2024-02-11T20:27:13.701303Z"
    },
    "papermill": {
     "duration": 0.021932,
     "end_time": "2024-02-11T20:27:13.703704",
     "exception": false,
     "start_time": "2024-02-11T20:27:13.681772",
     "status": "completed"
    },
    "tags": []
   },
   "outputs": [
    {
     "data": {
      "text/plain": [
       "0"
      ]
     },
     "execution_count": 7,
     "metadata": {},
     "output_type": "execute_result"
    }
   ],
   "source": [
    "#check if there any duplication \n",
    "df.duplicated().sum()"
   ]
  },
  {
   "cell_type": "markdown",
   "id": "034bc504",
   "metadata": {
    "papermill": {
     "duration": 0.01032,
     "end_time": "2024-02-11T20:27:13.724951",
     "exception": false,
     "start_time": "2024-02-11T20:27:13.714631",
     "status": "completed"
    },
    "tags": []
   },
   "source": [
    "- 📄 No Duplicated values "
   ]
  },
  {
   "cell_type": "code",
   "execution_count": 8,
   "id": "f297dde9",
   "metadata": {
    "execution": {
     "iopub.execute_input": "2024-02-11T20:27:13.749467Z",
     "iopub.status.busy": "2024-02-11T20:27:13.748975Z",
     "iopub.status.idle": "2024-02-11T20:27:13.753640Z",
     "shell.execute_reply": "2024-02-11T20:27:13.752827Z"
    },
    "papermill": {
     "duration": 0.019134,
     "end_time": "2024-02-11T20:27:13.755389",
     "exception": false,
     "start_time": "2024-02-11T20:27:13.736255",
     "status": "completed"
    },
    "tags": []
   },
   "outputs": [
    {
     "name": "stdout",
     "output_type": "stream",
     "text": [
      "We have 1000 Rows and 6 columns\n"
     ]
    }
   ],
   "source": [
    "# the shape \n",
    "print (f\"We have {df.shape[0]} Rows and {df.shape[1]} columns\")"
   ]
  },
  {
   "cell_type": "code",
   "execution_count": 9,
   "id": "81713859",
   "metadata": {
    "execution": {
     "iopub.execute_input": "2024-02-11T20:27:13.779700Z",
     "iopub.status.busy": "2024-02-11T20:27:13.779125Z",
     "iopub.status.idle": "2024-02-11T20:27:13.786271Z",
     "shell.execute_reply": "2024-02-11T20:27:13.784537Z"
    },
    "papermill": {
     "duration": 0.022742,
     "end_time": "2024-02-11T20:27:13.789155",
     "exception": false,
     "start_time": "2024-02-11T20:27:13.766413",
     "status": "completed"
    },
    "tags": []
   },
   "outputs": [
    {
     "name": "stdout",
     "output_type": "stream",
     "text": [
      "We have in column Make unique values : ['Ford' 'Toyota' 'Chevrolet' 'Nissan' 'Honda']\n",
      "We have in column Model unique values : ['Silverado' 'Civic' 'Altima' 'Camry' 'F-150']\n",
      "We have in column Condition unique values : ['Excellent' 'Good' 'Fair']\n"
     ]
    }
   ],
   "source": [
    "#let check what we have unique values in columns/ category columns\n",
    "for i in df.columns:\n",
    "    if df[i].dtypes == 'O':\n",
    "        print (f\"We have in column {i} unique values : {  df[i].unique()}\")"
   ]
  },
  {
   "cell_type": "markdown",
   "id": "ea8efd44",
   "metadata": {
    "execution": {
     "iopub.execute_input": "2024-02-11T20:04:17.683277Z",
     "iopub.status.busy": "2024-02-11T20:04:17.682821Z",
     "iopub.status.idle": "2024-02-11T20:04:17.690995Z",
     "shell.execute_reply": "2024-02-11T20:04:17.689364Z",
     "shell.execute_reply.started": "2024-02-11T20:04:17.683245Z"
    },
    "papermill": {
     "duration": 0.010806,
     "end_time": "2024-02-11T20:27:13.811407",
     "exception": false,
     "start_time": "2024-02-11T20:27:13.800601",
     "status": "completed"
    },
    "tags": []
   },
   "source": [
    "<a id=\"2\"></a>\n",
    "# <p style=\"padding:10px;background-color:#d896ff;margin:0;color:#660066;font-family:newtimeroman;font-size:100%;text-align:center;border-radius: 15px 50px;overflow:hidden;font-weight:500\">2️⃣ Explore Data using some Visuals </p>"
   ]
  },
  {
   "cell_type": "code",
   "execution_count": 10,
   "id": "a145e2a6",
   "metadata": {
    "execution": {
     "iopub.execute_input": "2024-02-11T20:27:13.835445Z",
     "iopub.status.busy": "2024-02-11T20:27:13.835101Z",
     "iopub.status.idle": "2024-02-11T20:27:14.025384Z",
     "shell.execute_reply": "2024-02-11T20:27:14.024035Z"
    },
    "papermill": {
     "duration": 0.205674,
     "end_time": "2024-02-11T20:27:14.028065",
     "exception": false,
     "start_time": "2024-02-11T20:27:13.822391",
     "status": "completed"
    },
    "tags": []
   },
   "outputs": [
    {
     "data": {
      "text/plain": [
       "<Axes: >"
      ]
     },
     "execution_count": 10,
     "metadata": {},
     "output_type": "execute_result"
    },
    {
     "data": {
      "image/png": "[encoded data removed]",
      "text/plain": [
       "<Figure size 640x480 with 1 Axes>"
      ]
     },
     "metadata": {},
     "output_type": "display_data"
    }
   ],
   "source": [
    "# let check the outlier in column price \n",
    "\n",
    "df[\"Price\"].plot(kind=\"box\")"
   ]
  },
  {
   "cell_type": "markdown",
   "id": "dc31fbfd",
   "metadata": {
    "papermill": {
     "duration": 0.011574,
     "end_time": "2024-02-11T20:27:14.053092",
     "exception": false,
     "start_time": "2024-02-11T20:27:14.041518",
     "status": "completed"
    },
    "tags": []
   },
   "source": [
    "- 🎯 It`s great / no outlier values in the price "
   ]
  },
  {
   "cell_type": "code",
   "execution_count": 11,
   "id": "12968f59",
   "metadata": {
    "execution": {
     "iopub.execute_input": "2024-02-11T20:27:14.078337Z",
     "iopub.status.busy": "2024-02-11T20:27:14.077937Z",
     "iopub.status.idle": "2024-02-11T20:27:14.231750Z",
     "shell.execute_reply": "2024-02-11T20:27:14.230507Z"
    },
    "papermill": {
     "duration": 0.16937,
     "end_time": "2024-02-11T20:27:14.233768",
     "exception": false,
     "start_time": "2024-02-11T20:27:14.064398",
     "status": "completed"
    },
    "tags": []
   },
   "outputs": [
    {
     "data": {
      "image/png": "[encoded data removed]",
      "text/plain": [
       "<Figure size 640x480 with 1 Axes>"
      ]
     },
     "metadata": {},
     "output_type": "display_data"
    }
   ],
   "source": [
    "# what the common car in the dataset \n",
    "\n",
    "df[\"Make\"].value_counts().plot(kind= \"bar\")\n",
    "plt.show()"
   ]
  },
  {
   "cell_type": "markdown",
   "id": "247ec3bf",
   "metadata": {
    "papermill": {
     "duration": 0.069597,
     "end_time": "2024-02-11T20:27:14.315261",
     "exception": false,
     "start_time": "2024-02-11T20:27:14.245664",
     "status": "completed"
    },
    "tags": []
   },
   "source": [
    "- ⛳ All cars the same count/ number"
   ]
  },
  {
   "cell_type": "code",
   "execution_count": 12,
   "id": "65a38dda",
   "metadata": {
    "execution": {
     "iopub.execute_input": "2024-02-11T20:27:14.341042Z",
     "iopub.status.busy": "2024-02-11T20:27:14.340238Z",
     "iopub.status.idle": "2024-02-11T20:27:14.575119Z",
     "shell.execute_reply": "2024-02-11T20:27:14.574017Z"
    },
    "papermill": {
     "duration": 0.249958,
     "end_time": "2024-02-11T20:27:14.577207",
     "exception": false,
     "start_time": "2024-02-11T20:27:14.327249",
     "status": "completed"
    },
    "tags": []
   },
   "outputs": [
    {
     "data": {
      "image/png": "[encoded data removed]",
      "text/plain": [
       "<Figure size 640x480 with 1 Axes>"
      ]
     },
     "metadata": {},
     "output_type": "display_data"
    }
   ],
   "source": [
    "# compare the price with the type of cars\n",
    "\n",
    "sns.barplot(df,x=\"Make\",y=\"Price\",estimator='sum')\n",
    "plt.title(\"The price with sum of moeny sales\")\n",
    "plt.show()"
   ]
  },
  {
   "cell_type": "code",
   "execution_count": 13,
   "id": "9e20ea7f",
   "metadata": {
    "execution": {
     "iopub.execute_input": "2024-02-11T20:27:14.605147Z",
     "iopub.status.busy": "2024-02-11T20:27:14.604320Z",
     "iopub.status.idle": "2024-02-11T20:27:14.623095Z",
     "shell.execute_reply": "2024-02-11T20:27:14.622162Z"
    },
    "papermill": {
     "duration": 0.034918,
     "end_time": "2024-02-11T20:27:14.625303",
     "exception": false,
     "start_time": "2024-02-11T20:27:14.590385",
     "status": "completed"
    },
    "tags": []
   },
   "outputs": [
    {
     "data": {
      "text/html": [
       "<div>\n",
       "<style scoped>\n",
       "    .dataframe tbody tr th:only-of-type {\n",
       "        vertical-align: middle;\n",
       "    }\n",
       "\n",
       "    .dataframe tbody tr th {\n",
       "        vertical-align: top;\n",
       "    }\n",
       "\n",
       "    .dataframe thead th {\n",
       "        text-align: right;\n",
       "    }\n",
       "</style>\n",
       "<table border=\"1\" class=\"dataframe\">\n",
       "  <thead>\n",
       "    <tr style=\"text-align: right;\">\n",
       "      <th></th>\n",
       "      <th>Make</th>\n",
       "      <th>Model</th>\n",
       "      <th>Price</th>\n",
       "    </tr>\n",
       "  </thead>\n",
       "  <tbody>\n",
       "    <tr>\n",
       "      <th>0</th>\n",
       "      <td>Chevrolet</td>\n",
       "      <td>Altima</td>\n",
       "      <td>1070390.10</td>\n",
       "    </tr>\n",
       "    <tr>\n",
       "      <th>1</th>\n",
       "      <td>Chevrolet</td>\n",
       "      <td>Camry</td>\n",
       "      <td>898420.90</td>\n",
       "    </tr>\n",
       "    <tr>\n",
       "      <th>2</th>\n",
       "      <td>Chevrolet</td>\n",
       "      <td>Civic</td>\n",
       "      <td>825398.20</td>\n",
       "    </tr>\n",
       "    <tr>\n",
       "      <th>3</th>\n",
       "      <td>Chevrolet</td>\n",
       "      <td>F-150</td>\n",
       "      <td>1033376.00</td>\n",
       "    </tr>\n",
       "    <tr>\n",
       "      <th>4</th>\n",
       "      <td>Chevrolet</td>\n",
       "      <td>Silverado</td>\n",
       "      <td>761470.35</td>\n",
       "    </tr>\n",
       "    <tr>\n",
       "      <th>5</th>\n",
       "      <td>Ford</td>\n",
       "      <td>Altima</td>\n",
       "      <td>895890.00</td>\n",
       "    </tr>\n",
       "    <tr>\n",
       "      <th>6</th>\n",
       "      <td>Ford</td>\n",
       "      <td>Camry</td>\n",
       "      <td>1039696.80</td>\n",
       "    </tr>\n",
       "    <tr>\n",
       "      <th>7</th>\n",
       "      <td>Ford</td>\n",
       "      <td>Civic</td>\n",
       "      <td>868417.15</td>\n",
       "    </tr>\n",
       "    <tr>\n",
       "      <th>8</th>\n",
       "      <td>Ford</td>\n",
       "      <td>F-150</td>\n",
       "      <td>843490.05</td>\n",
       "    </tr>\n",
       "    <tr>\n",
       "      <th>9</th>\n",
       "      <td>Ford</td>\n",
       "      <td>Silverado</td>\n",
       "      <td>801034.70</td>\n",
       "    </tr>\n",
       "    <tr>\n",
       "      <th>10</th>\n",
       "      <td>Honda</td>\n",
       "      <td>Altima</td>\n",
       "      <td>860824.05</td>\n",
       "    </tr>\n",
       "    <tr>\n",
       "      <th>11</th>\n",
       "      <td>Honda</td>\n",
       "      <td>Camry</td>\n",
       "      <td>963968.20</td>\n",
       "    </tr>\n",
       "    <tr>\n",
       "      <th>12</th>\n",
       "      <td>Honda</td>\n",
       "      <td>Civic</td>\n",
       "      <td>805859.00</td>\n",
       "    </tr>\n",
       "    <tr>\n",
       "      <th>13</th>\n",
       "      <td>Honda</td>\n",
       "      <td>F-150</td>\n",
       "      <td>708868.70</td>\n",
       "    </tr>\n",
       "    <tr>\n",
       "      <th>14</th>\n",
       "      <td>Honda</td>\n",
       "      <td>Silverado</td>\n",
       "      <td>1085858.80</td>\n",
       "    </tr>\n",
       "    <tr>\n",
       "      <th>15</th>\n",
       "      <td>Nissan</td>\n",
       "      <td>Altima</td>\n",
       "      <td>988680.75</td>\n",
       "    </tr>\n",
       "    <tr>\n",
       "      <th>16</th>\n",
       "      <td>Nissan</td>\n",
       "      <td>Camry</td>\n",
       "      <td>925797.15</td>\n",
       "    </tr>\n",
       "    <tr>\n",
       "      <th>17</th>\n",
       "      <td>Nissan</td>\n",
       "      <td>Civic</td>\n",
       "      <td>682920.95</td>\n",
       "    </tr>\n",
       "    <tr>\n",
       "      <th>18</th>\n",
       "      <td>Nissan</td>\n",
       "      <td>F-150</td>\n",
       "      <td>841593.65</td>\n",
       "    </tr>\n",
       "    <tr>\n",
       "      <th>19</th>\n",
       "      <td>Nissan</td>\n",
       "      <td>Silverado</td>\n",
       "      <td>807457.90</td>\n",
       "    </tr>\n",
       "    <tr>\n",
       "      <th>20</th>\n",
       "      <td>Toyota</td>\n",
       "      <td>Altima</td>\n",
       "      <td>1120469.95</td>\n",
       "    </tr>\n",
       "    <tr>\n",
       "      <th>21</th>\n",
       "      <td>Toyota</td>\n",
       "      <td>Camry</td>\n",
       "      <td>935784.55</td>\n",
       "    </tr>\n",
       "    <tr>\n",
       "      <th>22</th>\n",
       "      <td>Toyota</td>\n",
       "      <td>Civic</td>\n",
       "      <td>825958.05</td>\n",
       "    </tr>\n",
       "    <tr>\n",
       "      <th>23</th>\n",
       "      <td>Toyota</td>\n",
       "      <td>F-150</td>\n",
       "      <td>829884.30</td>\n",
       "    </tr>\n",
       "    <tr>\n",
       "      <th>24</th>\n",
       "      <td>Toyota</td>\n",
       "      <td>Silverado</td>\n",
       "      <td>773695.40</td>\n",
       "    </tr>\n",
       "  </tbody>\n",
       "</table>\n",
       "</div>"
      ],
      "text/plain": [
       "         Make      Model       Price\n",
       "0   Chevrolet     Altima  1070390.10\n",
       "1   Chevrolet      Camry   898420.90\n",
       "2   Chevrolet      Civic   825398.20\n",
       "3   Chevrolet      F-150  1033376.00\n",
       "4   Chevrolet  Silverado   761470.35\n",
       "5        Ford     Altima   895890.00\n",
       "6        Ford      Camry  1039696.80\n",
       "7        Ford      Civic   868417.15\n",
       "8        Ford      F-150   843490.05\n",
       "9        Ford  Silverado   801034.70\n",
       "10      Honda     Altima   860824.05\n",
       "11      Honda      Camry   963968.20\n",
       "12      Honda      Civic   805859.00\n",
       "13      Honda      F-150   708868.70\n",
       "14      Honda  Silverado  1085858.80\n",
       "15     Nissan     Altima   988680.75\n",
       "16     Nissan      Camry   925797.15\n",
       "17     Nissan      Civic   682920.95\n",
       "18     Nissan      F-150   841593.65\n",
       "19     Nissan  Silverado   807457.90\n",
       "20     Toyota     Altima  1120469.95\n",
       "21     Toyota      Camry   935784.55\n",
       "22     Toyota      Civic   825958.05\n",
       "23     Toyota      F-150   829884.30\n",
       "24     Toyota  Silverado   773695.40"
      ]
     },
     "execution_count": 13,
     "metadata": {},
     "output_type": "execute_result"
    }
   ],
   "source": [
    "# make group by with Make and Model and the sum price\n",
    "Gr_M_P = df.groupby([\"Make\",\"Model\"],as_index=False)[\"Price\"].sum()\n",
    "Gr_M_P"
   ]
  },
  {
   "cell_type": "code",
   "execution_count": 14,
   "id": "5e7d65bc",
   "metadata": {
    "execution": {
     "iopub.execute_input": "2024-02-11T20:27:14.652192Z",
     "iopub.status.busy": "2024-02-11T20:27:14.651830Z",
     "iopub.status.idle": "2024-02-11T20:27:16.768015Z",
     "shell.execute_reply": "2024-02-11T20:27:16.766665Z"
    },
    "papermill": {
     "duration": 2.132915,
     "end_time": "2024-02-11T20:27:16.770899",
     "exception": false,
     "start_time": "2024-02-11T20:27:14.637984",
     "status": "completed"
    },
    "tags": []
   },
   "outputs": [
    {
     "name": "stderr",
     "output_type": "stream",
     "text": [
      "/opt/conda/lib/python3.10/site-packages/plotly/express/_core.py:2065: FutureWarning: When grouping with a length-1 list-like, you will need to pass a length-1 tuple to get_group in a future version of pandas. Pass `(name,)` instead of `name` to silence this warning.\n",
      "  sf: grouped.get_group(s if len(s) > 1 else s[0])\n"
     ]
    },
    {
     "data": {
      "text/html": [
       "        <script type=\"text/javascript\">\n",
       "        window.PlotlyConfig = {MathJaxConfig: 'local'};\n",
       "        if (window.MathJax && window.MathJax.Hub && window.MathJax.Hub.Config) {window.MathJax.Hub.Config({SVG: {font: \"STIX-Web\"}});}\n",
       "        if (typeof require !== 'undefined') {\n",
       "        require.undef(\"plotly\");\n",
       "        requirejs.config({\n",
       "            paths: {\n",
       "                'plotly': ['https://cdn.plot.ly/plotly-2.27.0.min']\n",
       "            }\n",
       "        });\n",
       "        require(['plotly'], function(Plotly) {\n",
       "            window._Plotly = Plotly;\n",
       "        });\n",
       "        }\n",
       "        </script>\n",
       "        "
      ]
     },
     "metadata": {},
     "output_type": "display_data"
    },
    {
     "data": {
      "text/html": [
       "<div>                            <div id=\"4065523b-72ce-4fe9-8bff-3fd62389b6d6\" class=\"plotly-graph-div\" style=\"height:525px; width:100%;\"></div>            <script type=\"text/javascript\">                require([\"plotly\"], function(Plotly) {                    window.PLOTLYENV=window.PLOTLYENV || {};                                    if (document.getElementById(\"4065523b-72ce-4fe9-8bff-3fd62389b6d6\")) {                    Plotly.newPlot(                        \"4065523b-72ce-4fe9-8bff-3fd62389b6d6\",                        [{\"alignmentgroup\":\"True\",\"hovertemplate\":\"Make=Chevrolet\\u003cbr\\u003eModel=%{x}\\u003cbr\\u003ePrice=%{y}\\u003cextra\\u003e\\u003c\\u002fextra\\u003e\",\"legendgroup\":\"\",\"marker\":{\"color\":\"#636efa\",\"pattern\":{\"shape\":\"\"}},\"name\":\"\",\"offsetgroup\":\"\",\"orientation\":\"v\",\"showlegend\":false,\"textposition\":\"auto\",\"x\":[\"Altima\",\"Camry\",\"Civic\",\"F-150\",\"Silverado\"],\"xaxis\":\"x\",\"y\":[1070390.1,898420.9,825398.2,1033376.0,761470.35],\"yaxis\":\"y\",\"type\":\"bar\"}],                        {\"template\":{\"data\":{\"histogram2dcontour\":[{\"type\":\"histogram2dcontour\",\"colorbar\":{\"outlinewidth\":0,\"ticks\":\"\"},\"colorscale\":[[0.0,\"#0d0887\"],[0.1111111111111111,\"#46039f\"],[0.2222222222222222,\"#7201a8\"],[0.3333333333333333,\"#9c179e\"],[0.4444444444444444,\"#bd3786\"],[0.5555555555555556,\"#d8576b\"],[0.6666666666666666,\"#ed7953\"],[0.7777777777777778,\"#fb9f3a\"],[0.8888888888888888,\"#fdca26\"],[1.0,\"#f0f921\"]]}],\"choropleth\":[{\"type\":\"choropleth\",\"colorbar\":{\"outlinewidth\":0,\"ticks\":\"\"}}],\"histogram2d\":[{\"type\":\"histogram2d\",\"colorbar\":{\"outlinewidth\":0,\"ticks\":\"\"},\"colorscale\":[[0.0,\"#0d0887\"],[0.1111111111111111,\"#46039f\"],[0.2222222222222222,\"#7201a8\"],[0.3333333333333333,\"#9c179e\"],[0.4444444444444444,\"#bd3786\"],[0.5555555555555556,\"#d8576b\"],[0.6666666666666666,\"#ed7953\"],[0.7777777777777778,\"#fb9f3a\"],[0.8888888888888888,\"#fdca26\"],[1.0,\"#f0f921\"]]}],\"heatmap\":[{\"type\":\"heatmap\",\"colorbar\":{\"outlinewidth\":0,\"ticks\":\"\"},\"colorscale\":[[0.0,\"#0d0887\"],[0.1111111111111111,\"#46039f\"],[0.2222222222222222,\"#7201a8\"],[0.3333333333333333,\"#9c179e\"],[0.4444444444444444,\"#bd3786\"],[0.5555555555555556,\"#d8576b\"],[0.6666666666666666,\"#ed7953\"],[0.7777777777777778,\"#fb9f3a\"],[0.8888888888888888,\"#fdca26\"],[1.0,\"#f0f921\"]]}],\"heatmapgl\":[{\"type\":\"heatmapgl\",\"colorbar\":{\"outlinewidth\":0,\"ticks\":\"\"},\"colorscale\":[[0.0,\"#0d0887\"],[0.1111111111111111,\"#46039f\"],[0.2222222222222222,\"#7201a8\"],[0.3333333333333333,\"#9c179e\"],[0.4444444444444444,\"#bd3786\"],[0.5555555555555556,\"#d8576b\"],[0.6666666666666666,\"#ed7953\"],[0.7777777777777778,\"#fb9f3a\"],[0.8888888888888888,\"#fdca26\"],[1.0,\"#f0f921\"]]}],\"contourcarpet\":[{\"type\":\"contourcarpet\",\"colorbar\":{\"outlinewidth\":0,\"ticks\":\"\"}}],\"contour\":[{\"type\":\"contour\",\"colorbar\":{\"outlinewidth\":0,\"ticks\":\"\"},\"colorscale\":[[0.0,\"#0d0887\"],[0.1111111111111111,\"#46039f\"],[0.2222222222222222,\"#7201a8\"],[0.3333333333333333,\"#9c179e\"],[0.4444444444444444,\"#bd3786\"],[0.5555555555555556,\"#d8576b\"],[0.6666666666666666,\"#ed7953\"],[0.7777777777777778,\"#fb9f3a\"],[0.8888888888888888,\"#fdca26\"],[1.0,\"#f0f921\"]]}],\"surface\":[{\"type\":\"surface\",\"colorbar\":{\"outlinewidth\":0,\"ticks\":\"\"},\"colorscale\":[[0.0,\"#0d0887\"],[0.1111111111111111,\"#46039f\"],[0.2222222222222222,\"#7201a8\"],[0.3333333333333333,\"#9c179e\"],[0.4444444444444444,\"#bd3786\"],[0.5555555555555556,\"#d8576b\"],[0.6666666666666666,\"#ed7953\"],[0.7777777777777778,\"#fb9f3a\"],[0.8888888888888888,\"#fdca26\"],[1.0,\"#f0f921\"]]}],\"mesh3d\":[{\"type\":\"mesh3d\",\"colorbar\":{\"outlinewidth\":0,\"ticks\":\"\"}}],\"scatter\":[{\"fillpattern\":{\"fillmode\":\"overlay\",\"size\":10,\"solidity\":0.2},\"type\":\"scatter\"}],\"parcoords\":[{\"type\":\"parcoords\",\"line\":{\"colorbar\":{\"outlinewidth\":0,\"ticks\":\"\"}}}],\"scatterpolargl\":[{\"type\":\"scatterpolargl\",\"marker\":{\"colorbar\":{\"outlinewidth\":0,\"ticks\":\"\"}}}],\"bar\":[{\"error_x\":{\"color\":\"#2a3f5f\"},\"error_y\":{\"color\":\"#2a3f5f\"},\"marker\":{\"line\":{\"color\":\"#E5ECF6\",\"width\":0.5},\"pattern\":{\"fillmode\":\"overlay\",\"size\":10,\"solidity\":0.2}},\"type\":\"bar\"}],\"scattergeo\":[{\"type\":\"scattergeo\",\"marker\":{\"colorbar\":{\"outlinewidth\":0,\"ticks\":\"\"}}}],\"scatterpolar\":[{\"type\":\"scatterpolar\",\"marker\":{\"colorbar\":{\"outlinewidth\":0,\"ticks\":\"\"}}}],\"histogram\":[{\"marker\":{\"pattern\":{\"fillmode\":\"overlay\",\"size\":10,\"solidity\":0.2}},\"type\":\"histogram\"}],\"scattergl\":[{\"type\":\"scattergl\",\"marker\":{\"colorbar\":{\"outlinewidth\":0,\"ticks\":\"\"}}}],\"scatter3d\":[{\"type\":\"scatter3d\",\"line\":{\"colorbar\":{\"outlinewidth\":0,\"ticks\":\"\"}},\"marker\":{\"colorbar\":{\"outlinewidth\":0,\"ticks\":\"\"}}}],\"scattermapbox\":[{\"type\":\"scattermapbox\",\"marker\":{\"colorbar\":{\"outlinewidth\":0,\"ticks\":\"\"}}}],\"scatterternary\":[{\"type\":\"scatterternary\",\"marker\":{\"colorbar\":{\"outlinewidth\":0,\"ticks\":\"\"}}}],\"scattercarpet\":[{\"type\":\"scattercarpet\",\"marker\":{\"colorbar\":{\"outlinewidth\":0,\"ticks\":\"\"}}}],\"carpet\":[{\"aaxis\":{\"endlinecolor\":\"#2a3f5f\",\"gridcolor\":\"white\",\"linecolor\":\"white\",\"minorgridcolor\":\"white\",\"startlinecolor\":\"#2a3f5f\"},\"baxis\":{\"endlinecolor\":\"#2a3f5f\",\"gridcolor\":\"white\",\"linecolor\":\"white\",\"minorgridcolor\":\"white\",\"startlinecolor\":\"#2a3f5f\"},\"type\":\"carpet\"}],\"table\":[{\"cells\":{\"fill\":{\"color\":\"#EBF0F8\"},\"line\":{\"color\":\"white\"}},\"header\":{\"fill\":{\"color\":\"#C8D4E3\"},\"line\":{\"color\":\"white\"}},\"type\":\"table\"}],\"barpolar\":[{\"marker\":{\"line\":{\"color\":\"#E5ECF6\",\"width\":0.5},\"pattern\":{\"fillmode\":\"overlay\",\"size\":10,\"solidity\":0.2}},\"type\":\"barpolar\"}],\"pie\":[{\"automargin\":true,\"type\":\"pie\"}]},\"layout\":{\"autotypenumbers\":\"strict\",\"colorway\":[\"#636efa\",\"#EF553B\",\"#00cc96\",\"#ab63fa\",\"#FFA15A\",\"#19d3f3\",\"#FF6692\",\"#B6E880\",\"#FF97FF\",\"#FECB52\"],\"font\":{\"color\":\"#2a3f5f\"},\"hovermode\":\"closest\",\"hoverlabel\":{\"align\":\"left\"},\"paper_bgcolor\":\"white\",\"plot_bgcolor\":\"#E5ECF6\",\"polar\":{\"bgcolor\":\"#E5ECF6\",\"angularaxis\":{\"gridcolor\":\"white\",\"linecolor\":\"white\",\"ticks\":\"\"},\"radialaxis\":{\"gridcolor\":\"white\",\"linecolor\":\"white\",\"ticks\":\"\"}},\"ternary\":{\"bgcolor\":\"#E5ECF6\",\"aaxis\":{\"gridcolor\":\"white\",\"linecolor\":\"white\",\"ticks\":\"\"},\"baxis\":{\"gridcolor\":\"white\",\"linecolor\":\"white\",\"ticks\":\"\"},\"caxis\":{\"gridcolor\":\"white\",\"linecolor\":\"white\",\"ticks\":\"\"}},\"coloraxis\":{\"colorbar\":{\"outlinewidth\":0,\"ticks\":\"\"}},\"colorscale\":{\"sequential\":[[0.0,\"#0d0887\"],[0.1111111111111111,\"#46039f\"],[0.2222222222222222,\"#7201a8\"],[0.3333333333333333,\"#9c179e\"],[0.4444444444444444,\"#bd3786\"],[0.5555555555555556,\"#d8576b\"],[0.6666666666666666,\"#ed7953\"],[0.7777777777777778,\"#fb9f3a\"],[0.8888888888888888,\"#fdca26\"],[1.0,\"#f0f921\"]],\"sequentialminus\":[[0.0,\"#0d0887\"],[0.1111111111111111,\"#46039f\"],[0.2222222222222222,\"#7201a8\"],[0.3333333333333333,\"#9c179e\"],[0.4444444444444444,\"#bd3786\"],[0.5555555555555556,\"#d8576b\"],[0.6666666666666666,\"#ed7953\"],[0.7777777777777778,\"#fb9f3a\"],[0.8888888888888888,\"#fdca26\"],[1.0,\"#f0f921\"]],\"diverging\":[[0,\"#8e0152\"],[0.1,\"#c51b7d\"],[0.2,\"#de77ae\"],[0.3,\"#f1b6da\"],[0.4,\"#fde0ef\"],[0.5,\"#f7f7f7\"],[0.6,\"#e6f5d0\"],[0.7,\"#b8e186\"],[0.8,\"#7fbc41\"],[0.9,\"#4d9221\"],[1,\"#276419\"]]},\"xaxis\":{\"gridcolor\":\"white\",\"linecolor\":\"white\",\"ticks\":\"\",\"title\":{\"standoff\":15},\"zerolinecolor\":\"white\",\"automargin\":true,\"zerolinewidth\":2},\"yaxis\":{\"gridcolor\":\"white\",\"linecolor\":\"white\",\"ticks\":\"\",\"title\":{\"standoff\":15},\"zerolinecolor\":\"white\",\"automargin\":true,\"zerolinewidth\":2},\"scene\":{\"xaxis\":{\"backgroundcolor\":\"#E5ECF6\",\"gridcolor\":\"white\",\"linecolor\":\"white\",\"showbackground\":true,\"ticks\":\"\",\"zerolinecolor\":\"white\",\"gridwidth\":2},\"yaxis\":{\"backgroundcolor\":\"#E5ECF6\",\"gridcolor\":\"white\",\"linecolor\":\"white\",\"showbackground\":true,\"ticks\":\"\",\"zerolinecolor\":\"white\",\"gridwidth\":2},\"zaxis\":{\"backgroundcolor\":\"#E5ECF6\",\"gridcolor\":\"white\",\"linecolor\":\"white\",\"showbackground\":true,\"ticks\":\"\",\"zerolinecolor\":\"white\",\"gridwidth\":2}},\"shapedefaults\":{\"line\":{\"color\":\"#2a3f5f\"}},\"annotationdefaults\":{\"arrowcolor\":\"#2a3f5f\",\"arrowhead\":0,\"arrowwidth\":1},\"geo\":{\"bgcolor\":\"white\",\"landcolor\":\"#E5ECF6\",\"subunitcolor\":\"white\",\"showland\":true,\"showlakes\":true,\"lakecolor\":\"white\"},\"title\":{\"x\":0.05},\"mapbox\":{\"style\":\"light\"}}},\"xaxis\":{\"anchor\":\"y\",\"domain\":[0.0,1.0],\"title\":{\"text\":\"Model\"}},\"yaxis\":{\"anchor\":\"x\",\"domain\":[0.0,1.0],\"title\":{\"text\":\"Price\"}},\"legend\":{\"tracegroupgap\":0},\"margin\":{\"t\":60},\"barmode\":\"relative\",\"updatemenus\":[{\"buttons\":[{\"args\":[null,{\"frame\":{\"duration\":500,\"redraw\":true},\"mode\":\"immediate\",\"fromcurrent\":true,\"transition\":{\"duration\":500,\"easing\":\"linear\"}}],\"label\":\"&#9654;\",\"method\":\"animate\"},{\"args\":[[null],{\"frame\":{\"duration\":0,\"redraw\":true},\"mode\":\"immediate\",\"fromcurrent\":true,\"transition\":{\"duration\":0,\"easing\":\"linear\"}}],\"label\":\"&#9724;\",\"method\":\"animate\"}],\"direction\":\"left\",\"pad\":{\"r\":10,\"t\":70},\"showactive\":false,\"type\":\"buttons\",\"x\":0.1,\"xanchor\":\"right\",\"y\":0,\"yanchor\":\"top\"}],\"sliders\":[{\"active\":0,\"currentvalue\":{\"prefix\":\"Make=\"},\"len\":0.9,\"pad\":{\"b\":10,\"t\":60},\"steps\":[{\"args\":[[\"Chevrolet\"],{\"frame\":{\"duration\":0,\"redraw\":true},\"mode\":\"immediate\",\"fromcurrent\":true,\"transition\":{\"duration\":0,\"easing\":\"linear\"}}],\"label\":\"Chevrolet\",\"method\":\"animate\"},{\"args\":[[\"Ford\"],{\"frame\":{\"duration\":0,\"redraw\":true},\"mode\":\"immediate\",\"fromcurrent\":true,\"transition\":{\"duration\":0,\"easing\":\"linear\"}}],\"label\":\"Ford\",\"method\":\"animate\"},{\"args\":[[\"Honda\"],{\"frame\":{\"duration\":0,\"redraw\":true},\"mode\":\"immediate\",\"fromcurrent\":true,\"transition\":{\"duration\":0,\"easing\":\"linear\"}}],\"label\":\"Honda\",\"method\":\"animate\"},{\"args\":[[\"Nissan\"],{\"frame\":{\"duration\":0,\"redraw\":true},\"mode\":\"immediate\",\"fromcurrent\":true,\"transition\":{\"duration\":0,\"easing\":\"linear\"}}],\"label\":\"Nissan\",\"method\":\"animate\"},{\"args\":[[\"Toyota\"],{\"frame\":{\"duration\":0,\"redraw\":true},\"mode\":\"immediate\",\"fromcurrent\":true,\"transition\":{\"duration\":0,\"easing\":\"linear\"}}],\"label\":\"Toyota\",\"method\":\"animate\"}],\"x\":0.1,\"xanchor\":\"left\",\"y\":0,\"yanchor\":\"top\"}]},                        {\"responsive\": true}                    ).then(function(){\n",
       "                            Plotly.addFrames('4065523b-72ce-4fe9-8bff-3fd62389b6d6', [{\"data\":[{\"alignmentgroup\":\"True\",\"hovertemplate\":\"Make=Chevrolet\\u003cbr\\u003eModel=%{x}\\u003cbr\\u003ePrice=%{y}\\u003cextra\\u003e\\u003c\\u002fextra\\u003e\",\"legendgroup\":\"\",\"marker\":{\"color\":\"#636efa\",\"pattern\":{\"shape\":\"\"}},\"name\":\"\",\"offsetgroup\":\"\",\"orientation\":\"v\",\"showlegend\":false,\"textposition\":\"auto\",\"x\":[\"Altima\",\"Camry\",\"Civic\",\"F-150\",\"Silverado\"],\"xaxis\":\"x\",\"y\":[1070390.1,898420.9,825398.2,1033376.0,761470.35],\"yaxis\":\"y\",\"type\":\"bar\"}],\"name\":\"Chevrolet\"},{\"data\":[{\"alignmentgroup\":\"True\",\"hovertemplate\":\"Make=Ford\\u003cbr\\u003eModel=%{x}\\u003cbr\\u003ePrice=%{y}\\u003cextra\\u003e\\u003c\\u002fextra\\u003e\",\"legendgroup\":\"\",\"marker\":{\"color\":\"#636efa\",\"pattern\":{\"shape\":\"\"}},\"name\":\"\",\"offsetgroup\":\"\",\"orientation\":\"v\",\"showlegend\":false,\"textposition\":\"auto\",\"x\":[\"Altima\",\"Camry\",\"Civic\",\"F-150\",\"Silverado\"],\"xaxis\":\"x\",\"y\":[895890.0,1039696.8,868417.15,843490.05,801034.7],\"yaxis\":\"y\",\"type\":\"bar\"}],\"name\":\"Ford\"},{\"data\":[{\"alignmentgroup\":\"True\",\"hovertemplate\":\"Make=Honda\\u003cbr\\u003eModel=%{x}\\u003cbr\\u003ePrice=%{y}\\u003cextra\\u003e\\u003c\\u002fextra\\u003e\",\"legendgroup\":\"\",\"marker\":{\"color\":\"#636efa\",\"pattern\":{\"shape\":\"\"}},\"name\":\"\",\"offsetgroup\":\"\",\"orientation\":\"v\",\"showlegend\":false,\"textposition\":\"auto\",\"x\":[\"Altima\",\"Camry\",\"Civic\",\"F-150\",\"Silverado\"],\"xaxis\":\"x\",\"y\":[860824.05,963968.2,805859.0,708868.7,1085858.8],\"yaxis\":\"y\",\"type\":\"bar\"}],\"name\":\"Honda\"},{\"data\":[{\"alignmentgroup\":\"True\",\"hovertemplate\":\"Make=Nissan\\u003cbr\\u003eModel=%{x}\\u003cbr\\u003ePrice=%{y}\\u003cextra\\u003e\\u003c\\u002fextra\\u003e\",\"legendgroup\":\"\",\"marker\":{\"color\":\"#636efa\",\"pattern\":{\"shape\":\"\"}},\"name\":\"\",\"offsetgroup\":\"\",\"orientation\":\"v\",\"showlegend\":false,\"textposition\":\"auto\",\"x\":[\"Altima\",\"Camry\",\"Civic\",\"F-150\",\"Silverado\"],\"xaxis\":\"x\",\"y\":[988680.75,925797.15,682920.95,841593.65,807457.9],\"yaxis\":\"y\",\"type\":\"bar\"}],\"name\":\"Nissan\"},{\"data\":[{\"alignmentgroup\":\"True\",\"hovertemplate\":\"Make=Toyota\\u003cbr\\u003eModel=%{x}\\u003cbr\\u003ePrice=%{y}\\u003cextra\\u003e\\u003c\\u002fextra\\u003e\",\"legendgroup\":\"\",\"marker\":{\"color\":\"#636efa\",\"pattern\":{\"shape\":\"\"}},\"name\":\"\",\"offsetgroup\":\"\",\"orientation\":\"v\",\"showlegend\":false,\"textposition\":\"auto\",\"x\":[\"Altima\",\"Camry\",\"Civic\",\"F-150\",\"Silverado\"],\"xaxis\":\"x\",\"y\":[1120469.95,935784.55,825958.05,829884.3,773695.4],\"yaxis\":\"y\",\"type\":\"bar\"}],\"name\":\"Toyota\"}]);\n",
       "                        }).then(function(){\n",
       "                            \n",
       "var gd = document.getElementById('4065523b-72ce-4fe9-8bff-3fd62389b6d6');\n",
       "var x = new MutationObserver(function (mutations, observer) {{\n",
       "        var display = window.getComputedStyle(gd).display;\n",
       "        if (!display || display === 'none') {{\n",
       "            console.log([gd, 'removed!']);\n",
       "            Plotly.purge(gd);\n",
       "            observer.disconnect();\n",
       "        }}\n",
       "}});\n",
       "\n",
       "// Listen for the removal of the full notebook cells\n",
       "var notebookContainer = gd.closest('#notebook-container');\n",
       "if (notebookContainer) {{\n",
       "    x.observe(notebookContainer, {childList: true});\n",
       "}}\n",
       "\n",
       "// Listen for the clearing of the current output cell\n",
       "var outputEl = gd.closest('.output');\n",
       "if (outputEl) {{\n",
       "    x.observe(outputEl, {childList: true});\n",
       "}}\n",
       "\n",
       "                        })                };                });            </script>        </div>"
      ]
     },
     "metadata": {},
     "output_type": "display_data"
    }
   ],
   "source": [
    "# let`s visulal the group by - interactive graph 🎁\n",
    "px.bar(Gr_M_P, x=\"Model\",y=\"Price\",animation_frame=\"Make\")"
   ]
  },
  {
   "cell_type": "code",
   "execution_count": 15,
   "id": "3869a3d5",
   "metadata": {
    "execution": {
     "iopub.execute_input": "2024-02-11T20:27:16.802506Z",
     "iopub.status.busy": "2024-02-11T20:27:16.801862Z",
     "iopub.status.idle": "2024-02-11T20:27:16.930343Z",
     "shell.execute_reply": "2024-02-11T20:27:16.929198Z"
    },
    "papermill": {
     "duration": 0.145953,
     "end_time": "2024-02-11T20:27:16.932815",
     "exception": false,
     "start_time": "2024-02-11T20:27:16.786862",
     "status": "completed"
    },
    "tags": []
   },
   "outputs": [
    {
     "data": {
      "image/png": "[encoded data removed]",
      "text/plain": [
       "<Figure size 640x480 with 1 Axes>"
      ]
     },
     "metadata": {},
     "output_type": "display_data"
    }
   ],
   "source": [
    "# what the common condition in the dataset \n",
    "\n",
    "df[\"Condition\"].value_counts().plot(kind= \"pie\",autopct='%1.2f%%', shadow = True)\n",
    "plt.show()"
   ]
  },
  {
   "cell_type": "markdown",
   "id": "62d07714",
   "metadata": {
    "papermill": {
     "duration": 0.01496,
     "end_time": "2024-02-11T20:27:16.962400",
     "exception": false,
     "start_time": "2024-02-11T20:27:16.947440",
     "status": "completed"
    },
    "tags": []
   },
   "source": [
    "- ♥ The Condition :\n",
    "- 🔍 Excellent = 59.5 %\n",
    "- 🔍 Good = 29.2 %\n",
    "- 🔍 Fair = 11.30 %"
   ]
  },
  {
   "cell_type": "code",
   "execution_count": 16,
   "id": "b3ac2edf",
   "metadata": {
    "execution": {
     "iopub.execute_input": "2024-02-11T20:27:16.994177Z",
     "iopub.status.busy": "2024-02-11T20:27:16.993575Z",
     "iopub.status.idle": "2024-02-11T20:27:17.210736Z",
     "shell.execute_reply": "2024-02-11T20:27:17.209452Z"
    },
    "papermill": {
     "duration": 0.235817,
     "end_time": "2024-02-11T20:27:17.212981",
     "exception": false,
     "start_time": "2024-02-11T20:27:16.977164",
     "status": "completed"
    },
    "tags": []
   },
   "outputs": [
    {
     "data": {
      "image/png": "[encoded data removed]",
      "text/plain": [
       "<Figure size 640x480 with 1 Axes>"
      ]
     },
     "metadata": {},
     "output_type": "display_data"
    }
   ],
   "source": [
    "# compare the price with the condition of cars\n",
    "\n",
    "sns.barplot(df,x=\"Condition\",y=\"Price\",estimator='sum')\n",
    "plt.title(\"The price with sum of moeny sales\")\n",
    "plt.show()"
   ]
  },
  {
   "cell_type": "code",
   "execution_count": 17,
   "id": "fa353b5b",
   "metadata": {
    "execution": {
     "iopub.execute_input": "2024-02-11T20:27:17.242538Z",
     "iopub.status.busy": "2024-02-11T20:27:17.242171Z",
     "iopub.status.idle": "2024-02-11T20:27:17.446678Z",
     "shell.execute_reply": "2024-02-11T20:27:17.445298Z"
    },
    "papermill": {
     "duration": 0.222345,
     "end_time": "2024-02-11T20:27:17.449284",
     "exception": false,
     "start_time": "2024-02-11T20:27:17.226939",
     "status": "completed"
    },
    "tags": []
   },
   "outputs": [
    {
     "name": "stderr",
     "output_type": "stream",
     "text": [
      "/opt/conda/lib/python3.10/site-packages/seaborn/_oldcore.py:1119: FutureWarning:\n",
      "\n",
      "use_inf_as_na option is deprecated and will be removed in a future version. Convert inf values to NaN before operating instead.\n",
      "\n"
     ]
    },
    {
     "data": {
      "image/png": "[encoded data removed]",
      "text/plain": [
       "<Figure size 640x480 with 1 Axes>"
      ]
     },
     "metadata": {},
     "output_type": "display_data"
    }
   ],
   "source": [
    "# using histogram, to show the numerical columns where is the distributing\n",
    "\n",
    "#first let`s show the price column \n",
    "sns.histplot(data= df, x=\"Price\")\n",
    "plt.title(\"where is the distributing in Price column\")\n",
    "plt.show()"
   ]
  },
  {
   "cell_type": "markdown",
   "id": "3dea1ff8",
   "metadata": {
    "papermill": {
     "duration": 0.014715,
     "end_time": "2024-02-11T20:27:17.478903",
     "exception": false,
     "start_time": "2024-02-11T20:27:17.464188",
     "status": "completed"
    },
    "tags": []
   },
   "source": [
    "- 🎃 The more price between - 20 K to 25 K"
   ]
  },
  {
   "cell_type": "code",
   "execution_count": 18,
   "id": "8219e2a6",
   "metadata": {
    "execution": {
     "iopub.execute_input": "2024-02-11T20:27:17.513605Z",
     "iopub.status.busy": "2024-02-11T20:27:17.512917Z",
     "iopub.status.idle": "2024-02-11T20:27:17.727111Z",
     "shell.execute_reply": "2024-02-11T20:27:17.725660Z"
    },
    "papermill": {
     "duration": 0.23295,
     "end_time": "2024-02-11T20:27:17.729578",
     "exception": false,
     "start_time": "2024-02-11T20:27:17.496628",
     "status": "completed"
    },
    "tags": []
   },
   "outputs": [
    {
     "name": "stderr",
     "output_type": "stream",
     "text": [
      "/opt/conda/lib/python3.10/site-packages/seaborn/_oldcore.py:1119: FutureWarning:\n",
      "\n",
      "use_inf_as_na option is deprecated and will be removed in a future version. Convert inf values to NaN before operating instead.\n",
      "\n"
     ]
    },
    {
     "data": {
      "image/png": "[encoded data removed]",
      "text/plain": [
       "<Figure size 640x480 with 1 Axes>"
      ]
     },
     "metadata": {},
     "output_type": "display_data"
    }
   ],
   "source": [
    "#sconde  let`s show the years column \n",
    "sns.histplot(data= df, x=\"Year\")\n",
    "plt.title(\"where is the distributing in Year column\")\n",
    "plt.show()"
   ]
  },
  {
   "cell_type": "markdown",
   "id": "089f8aad",
   "metadata": {
    "papermill": {
     "duration": 0.014296,
     "end_time": "2024-02-11T20:27:17.758790",
     "exception": false,
     "start_time": "2024-02-11T20:27:17.744494",
     "status": "completed"
    },
    "tags": []
   },
   "source": [
    "- 👓 The common years 2010 & 2022 "
   ]
  },
  {
   "cell_type": "code",
   "execution_count": 19,
   "id": "b7b8837f",
   "metadata": {
    "execution": {
     "iopub.execute_input": "2024-02-11T20:27:17.789924Z",
     "iopub.status.busy": "2024-02-11T20:27:17.789508Z",
     "iopub.status.idle": "2024-02-11T20:27:18.003462Z",
     "shell.execute_reply": "2024-02-11T20:27:18.001855Z"
    },
    "papermill": {
     "duration": 0.232867,
     "end_time": "2024-02-11T20:27:18.006246",
     "exception": false,
     "start_time": "2024-02-11T20:27:17.773379",
     "status": "completed"
    },
    "tags": []
   },
   "outputs": [
    {
     "name": "stderr",
     "output_type": "stream",
     "text": [
      "/opt/conda/lib/python3.10/site-packages/seaborn/_oldcore.py:1119: FutureWarning:\n",
      "\n",
      "use_inf_as_na option is deprecated and will be removed in a future version. Convert inf values to NaN before operating instead.\n",
      "\n"
     ]
    },
    {
     "data": {
      "image/png": "[encoded data removed]",
      "text/plain": [
       "<Figure size 640x480 with 1 Axes>"
      ]
     },
     "metadata": {},
     "output_type": "display_data"
    }
   ],
   "source": [
    "#third let`s show the Mileage column \n",
    "sns.histplot(data= df, x=\"Mileage\")\n",
    "plt.title(\"where is the distributing in Mileage column\")\n",
    "plt.show()"
   ]
  },
  {
   "cell_type": "markdown",
   "id": "9b3d2ede",
   "metadata": {
    "papermill": {
     "duration": 0.01506,
     "end_time": "2024-02-11T20:27:18.037001",
     "exception": false,
     "start_time": "2024-02-11T20:27:18.021941",
     "status": "completed"
    },
    "tags": []
   },
   "source": [
    "- 😶 In general the mileage is close together"
   ]
  },
  {
   "cell_type": "markdown",
   "id": "73c78bac",
   "metadata": {
    "papermill": {
     "duration": 0.014633,
     "end_time": "2024-02-11T20:27:18.066236",
     "exception": false,
     "start_time": "2024-02-11T20:27:18.051603",
     "status": "completed"
    },
    "tags": []
   },
   "source": [
    "#### 🙂 let`s show the numerical columns with the price  🙃"
   ]
  },
  {
   "cell_type": "code",
   "execution_count": 20,
   "id": "9ee5bfb3",
   "metadata": {
    "execution": {
     "iopub.execute_input": "2024-02-11T20:27:18.102851Z",
     "iopub.status.busy": "2024-02-11T20:27:18.101902Z",
     "iopub.status.idle": "2024-02-11T20:27:18.310376Z",
     "shell.execute_reply": "2024-02-11T20:27:18.308945Z"
    },
    "papermill": {
     "duration": 0.231518,
     "end_time": "2024-02-11T20:27:18.313207",
     "exception": false,
     "start_time": "2024-02-11T20:27:18.081689",
     "status": "completed"
    },
    "tags": []
   },
   "outputs": [
    {
     "data": {
      "image/png": "[encoded data removed]",
      "text/plain": [
       "<Figure size 640x480 with 1 Axes>"
      ]
     },
     "metadata": {},
     "output_type": "display_data"
    }
   ],
   "source": [
    "# there any relation between price and the year ?\n",
    "\n",
    "sns.scatterplot(df, x=\"Year\", y=\"Price\")\n",
    "plt.title(\"The relation between year and price\")\n",
    "plt.show()"
   ]
  },
  {
   "cell_type": "markdown",
   "id": "a0a71a49",
   "metadata": {
    "papermill": {
     "duration": 0.015641,
     "end_time": "2024-02-11T20:27:18.345998",
     "exception": false,
     "start_time": "2024-02-11T20:27:18.330357",
     "status": "completed"
    },
    "tags": []
   },
   "source": [
    "- 🎯 we see the old model cars have the high price, and the new cars have the low price / in average ."
   ]
  },
  {
   "cell_type": "code",
   "execution_count": 21,
   "id": "6a058487",
   "metadata": {
    "execution": {
     "iopub.execute_input": "2024-02-11T20:27:18.380025Z",
     "iopub.status.busy": "2024-02-11T20:27:18.379588Z",
     "iopub.status.idle": "2024-02-11T20:27:18.604927Z",
     "shell.execute_reply": "2024-02-11T20:27:18.603703Z"
    },
    "papermill": {
     "duration": 0.244917,
     "end_time": "2024-02-11T20:27:18.606869",
     "exception": false,
     "start_time": "2024-02-11T20:27:18.361952",
     "status": "completed"
    },
    "tags": []
   },
   "outputs": [
    {
     "data": {
      "image/png": "[encoded data removed]",
      "text/plain": [
       "<Figure size 640x480 with 1 Axes>"
      ]
     },
     "metadata": {},
     "output_type": "display_data"
    }
   ],
   "source": [
    "# there any relation between price and the Mileage ?\n",
    "\n",
    "sns.scatterplot(df, x=\"Mileage\", y=\"Price\")\n",
    "plt.title(\"The relation between Mileage and price\")\n",
    "plt.show()"
   ]
  },
  {
   "cell_type": "markdown",
   "id": "c5103e90",
   "metadata": {
    "papermill": {
     "duration": 0.016281,
     "end_time": "2024-02-11T20:27:18.639942",
     "exception": false,
     "start_time": "2024-02-11T20:27:18.623661",
     "status": "completed"
    },
    "tags": []
   },
   "source": [
    "- ✨ The price be low when the mileage be increase."
   ]
  },
  {
   "cell_type": "markdown",
   "id": "ce8f83ca",
   "metadata": {
    "papermill": {
     "duration": 0.016632,
     "end_time": "2024-02-11T20:27:18.673154",
     "exception": false,
     "start_time": "2024-02-11T20:27:18.656522",
     "status": "completed"
    },
    "tags": []
   },
   "source": [
    "<div style = 'border : 3px solid non; background-color:#ffffff;font-family:Gabriola;color:#000080; ; ;padding:10px'>\n",
    "<p style=\"font-family:Georgia;padding:20px;line-height:85px;\";><font style=\"font-family:Georgia; font-size:200%;\">   </font>\n",
    "    <p style = \"font-size:200%; color:#800080\"> 📌 Analysis Result</p>\n",
    "       "
   ]
  },
  {
   "cell_type": "markdown",
   "id": "064f7b00",
   "metadata": {
    "papermill": {
     "duration": 0.019181,
     "end_time": "2024-02-11T20:27:18.711459",
     "exception": false,
     "start_time": "2024-02-11T20:27:18.692278",
     "status": "completed"
    },
    "tags": []
   },
   "source": [
    " -🎖 After exploring the data and made some visualization to easy to understand the data we can start building the ML model.\n",
    "\n",
    "    \n",
    " -🎖  Now we are aware about all the data set"
   ]
  },
  {
   "cell_type": "markdown",
   "id": "0a03dae5",
   "metadata": {
    "papermill": {
     "duration": 0.016717,
     "end_time": "2024-02-11T20:27:18.747477",
     "exception": false,
     "start_time": "2024-02-11T20:27:18.730760",
     "status": "completed"
    },
    "tags": []
   },
   "source": [
    "<a id=\"3\"></a>\n",
    "# <p style=\"padding:10px;background-color:#d896ff;margin:0;color:#660066;font-family:newtimeroman;font-size:100%;text-align:center;border-radius: 15px 50px;overflow:hidden;font-weight:500\">3️⃣ Building a Machine Learning Model </p>"
   ]
  },
  {
   "cell_type": "code",
   "execution_count": 22,
   "id": "a4a3e956",
   "metadata": {
    "execution": {
     "iopub.execute_input": "2024-02-11T20:27:18.783146Z",
     "iopub.status.busy": "2024-02-11T20:27:18.782701Z",
     "iopub.status.idle": "2024-02-11T20:27:19.670908Z",
     "shell.execute_reply": "2024-02-11T20:27:19.669729Z"
    },
    "papermill": {
     "duration": 0.909299,
     "end_time": "2024-02-11T20:27:19.673354",
     "exception": false,
     "start_time": "2024-02-11T20:27:18.764055",
     "status": "completed"
    },
    "tags": []
   },
   "outputs": [],
   "source": [
    "#Importing the basic librarires for building model\n",
    "\n",
    "from sklearn.model_selection import train_test_split\n",
    "\n",
    "from sklearn.metrics import accuracy_score,r2_score\n",
    "\n",
    "\n",
    "\n",
    "from sklearn.linear_model import LinearRegression \n",
    "from sklearn.tree import DecisionTreeRegressor\n",
    "from sklearn.neighbors import KNeighborsRegressor\n",
    "from sklearn.ensemble import RandomForestRegressor\n",
    "from sklearn.neural_network import MLPRegressor\n",
    "from sklearn.svm import SVR\n",
    "from xgboost import XGBRegressor\n",
    "\n",
    "from sklearn.preprocessing import LabelEncoder # for make encoding / change from the category to numerical columns"
   ]
  },
  {
   "cell_type": "code",
   "execution_count": 23,
   "id": "2d7802ab",
   "metadata": {
    "execution": {
     "iopub.execute_input": "2024-02-11T20:27:19.708981Z",
     "iopub.status.busy": "2024-02-11T20:27:19.708585Z",
     "iopub.status.idle": "2024-02-11T20:27:19.720387Z",
     "shell.execute_reply": "2024-02-11T20:27:19.719362Z"
    },
    "papermill": {
     "duration": 0.032073,
     "end_time": "2024-02-11T20:27:19.722396",
     "exception": false,
     "start_time": "2024-02-11T20:27:19.690323",
     "status": "completed"
    },
    "tags": []
   },
   "outputs": [
    {
     "data": {
      "text/html": [
       "<div>\n",
       "<style scoped>\n",
       "    .dataframe tbody tr th:only-of-type {\n",
       "        vertical-align: middle;\n",
       "    }\n",
       "\n",
       "    .dataframe tbody tr th {\n",
       "        vertical-align: top;\n",
       "    }\n",
       "\n",
       "    .dataframe thead th {\n",
       "        text-align: right;\n",
       "    }\n",
       "</style>\n",
       "<table border=\"1\" class=\"dataframe\">\n",
       "  <thead>\n",
       "    <tr style=\"text-align: right;\">\n",
       "      <th></th>\n",
       "      <th>Make</th>\n",
       "      <th>Model</th>\n",
       "      <th>Year</th>\n",
       "      <th>Mileage</th>\n",
       "      <th>Condition</th>\n",
       "      <th>Price</th>\n",
       "    </tr>\n",
       "  </thead>\n",
       "  <tbody>\n",
       "    <tr>\n",
       "      <th>0</th>\n",
       "      <td>Ford</td>\n",
       "      <td>Silverado</td>\n",
       "      <td>2022</td>\n",
       "      <td>18107</td>\n",
       "      <td>Excellent</td>\n",
       "      <td>19094.75</td>\n",
       "    </tr>\n",
       "    <tr>\n",
       "      <th>1</th>\n",
       "      <td>Toyota</td>\n",
       "      <td>Silverado</td>\n",
       "      <td>2014</td>\n",
       "      <td>13578</td>\n",
       "      <td>Excellent</td>\n",
       "      <td>27321.10</td>\n",
       "    </tr>\n",
       "    <tr>\n",
       "      <th>2</th>\n",
       "      <td>Chevrolet</td>\n",
       "      <td>Civic</td>\n",
       "      <td>2016</td>\n",
       "      <td>46054</td>\n",
       "      <td>Good</td>\n",
       "      <td>23697.30</td>\n",
       "    </tr>\n",
       "    <tr>\n",
       "      <th>3</th>\n",
       "      <td>Ford</td>\n",
       "      <td>Civic</td>\n",
       "      <td>2022</td>\n",
       "      <td>34981</td>\n",
       "      <td>Excellent</td>\n",
       "      <td>18251.05</td>\n",
       "    </tr>\n",
       "    <tr>\n",
       "      <th>4</th>\n",
       "      <td>Chevrolet</td>\n",
       "      <td>Civic</td>\n",
       "      <td>2019</td>\n",
       "      <td>63565</td>\n",
       "      <td>Excellent</td>\n",
       "      <td>19821.85</td>\n",
       "    </tr>\n",
       "  </tbody>\n",
       "</table>\n",
       "</div>"
      ],
      "text/plain": [
       "        Make      Model  Year  Mileage  Condition     Price\n",
       "0       Ford  Silverado  2022    18107  Excellent  19094.75\n",
       "1     Toyota  Silverado  2014    13578  Excellent  27321.10\n",
       "2  Chevrolet      Civic  2016    46054       Good  23697.30\n",
       "3       Ford      Civic  2022    34981  Excellent  18251.05\n",
       "4  Chevrolet      Civic  2019    63565  Excellent  19821.85"
      ]
     },
     "execution_count": 23,
     "metadata": {},
     "output_type": "execute_result"
    }
   ],
   "source": [
    "#show the data again\n",
    "df.head()"
   ]
  },
  {
   "cell_type": "code",
   "execution_count": 24,
   "id": "0e5a79bc",
   "metadata": {
    "execution": {
     "iopub.execute_input": "2024-02-11T20:27:19.759367Z",
     "iopub.status.busy": "2024-02-11T20:27:19.758847Z",
     "iopub.status.idle": "2024-02-11T20:27:19.766479Z",
     "shell.execute_reply": "2024-02-11T20:27:19.764986Z"
    },
    "papermill": {
     "duration": 0.029632,
     "end_time": "2024-02-11T20:27:19.768999",
     "exception": false,
     "start_time": "2024-02-11T20:27:19.739367",
     "status": "completed"
    },
    "tags": []
   },
   "outputs": [],
   "source": [
    "# separation the data type columns [ object and numeric ]\n",
    "\n",
    "cat = []\n",
    "num = []\n",
    "for i in df.columns:\n",
    "    if df[i].dtypes == 'O':\n",
    "        cat.append(i)\n",
    "    else:\n",
    "        num.append(i)\n",
    "\n",
    "data_n=df[num]   # new dataframe just type numeric\n",
    "data_c=df[cat]  # new dataframe just type object"
   ]
  },
  {
   "cell_type": "code",
   "execution_count": 25,
   "id": "8d483343",
   "metadata": {
    "execution": {
     "iopub.execute_input": "2024-02-11T20:27:19.806228Z",
     "iopub.status.busy": "2024-02-11T20:27:19.805663Z",
     "iopub.status.idle": "2024-02-11T20:27:19.813209Z",
     "shell.execute_reply": "2024-02-11T20:27:19.812330Z"
    },
    "papermill": {
     "duration": 0.028454,
     "end_time": "2024-02-11T20:27:19.815231",
     "exception": false,
     "start_time": "2024-02-11T20:27:19.786777",
     "status": "completed"
    },
    "tags": []
   },
   "outputs": [
    {
     "name": "stderr",
     "output_type": "stream",
     "text": [
      "/tmp/ipykernel_18/2383997895.py:8: SettingWithCopyWarning:\n",
      "\n",
      "\n",
      "A value is trying to be set on a copy of a slice from a DataFrame.\n",
      "Try using .loc[row_indexer,col_indexer] = value instead\n",
      "\n",
      "See the caveats in the documentation: https://pandas.pydata.org/pandas-docs/stable/user_guide/indexing.html#returning-a-view-versus-a-copy\n",
      "\n",
      "/tmp/ipykernel_18/2383997895.py:8: SettingWithCopyWarning:\n",
      "\n",
      "\n",
      "A value is trying to be set on a copy of a slice from a DataFrame.\n",
      "Try using .loc[row_indexer,col_indexer] = value instead\n",
      "\n",
      "See the caveats in the documentation: https://pandas.pydata.org/pandas-docs/stable/user_guide/indexing.html#returning-a-view-versus-a-copy\n",
      "\n",
      "/tmp/ipykernel_18/2383997895.py:8: SettingWithCopyWarning:\n",
      "\n",
      "\n",
      "A value is trying to be set on a copy of a slice from a DataFrame.\n",
      "Try using .loc[row_indexer,col_indexer] = value instead\n",
      "\n",
      "See the caveats in the documentation: https://pandas.pydata.org/pandas-docs/stable/user_guide/indexing.html#returning-a-view-versus-a-copy\n",
      "\n"
     ]
    }
   ],
   "source": [
    "# let start make the encoding \n",
    "\n",
    "label_encoders = {}\n",
    "categorical_columns = data_c.columns  # I would recommend using columns names here if you're using pandas. If you're using numpy then stick with range(n) instead\n",
    "\n",
    "for column in categorical_columns:\n",
    "    label_encoders[column] = LabelEncoder()\n",
    "    data_c[column] = label_encoders[column].fit_transform(data_c[column])"
   ]
  },
  {
   "cell_type": "code",
   "execution_count": 26,
   "id": "482c4775",
   "metadata": {
    "execution": {
     "iopub.execute_input": "2024-02-11T20:27:19.851720Z",
     "iopub.status.busy": "2024-02-11T20:27:19.851345Z",
     "iopub.status.idle": "2024-02-11T20:27:19.861242Z",
     "shell.execute_reply": "2024-02-11T20:27:19.860368Z"
    },
    "papermill": {
     "duration": 0.030648,
     "end_time": "2024-02-11T20:27:19.863005",
     "exception": false,
     "start_time": "2024-02-11T20:27:19.832357",
     "status": "completed"
    },
    "tags": []
   },
   "outputs": [
    {
     "data": {
      "text/html": [
       "<div>\n",
       "<style scoped>\n",
       "    .dataframe tbody tr th:only-of-type {\n",
       "        vertical-align: middle;\n",
       "    }\n",
       "\n",
       "    .dataframe tbody tr th {\n",
       "        vertical-align: top;\n",
       "    }\n",
       "\n",
       "    .dataframe thead th {\n",
       "        text-align: right;\n",
       "    }\n",
       "</style>\n",
       "<table border=\"1\" class=\"dataframe\">\n",
       "  <thead>\n",
       "    <tr style=\"text-align: right;\">\n",
       "      <th></th>\n",
       "      <th>Make</th>\n",
       "      <th>Model</th>\n",
       "      <th>Condition</th>\n",
       "    </tr>\n",
       "  </thead>\n",
       "  <tbody>\n",
       "    <tr>\n",
       "      <th>0</th>\n",
       "      <td>1</td>\n",
       "      <td>4</td>\n",
       "      <td>0</td>\n",
       "    </tr>\n",
       "    <tr>\n",
       "      <th>1</th>\n",
       "      <td>4</td>\n",
       "      <td>4</td>\n",
       "      <td>0</td>\n",
       "    </tr>\n",
       "    <tr>\n",
       "      <th>2</th>\n",
       "      <td>0</td>\n",
       "      <td>2</td>\n",
       "      <td>2</td>\n",
       "    </tr>\n",
       "    <tr>\n",
       "      <th>3</th>\n",
       "      <td>1</td>\n",
       "      <td>2</td>\n",
       "      <td>0</td>\n",
       "    </tr>\n",
       "    <tr>\n",
       "      <th>4</th>\n",
       "      <td>0</td>\n",
       "      <td>2</td>\n",
       "      <td>0</td>\n",
       "    </tr>\n",
       "    <tr>\n",
       "      <th>...</th>\n",
       "      <td>...</td>\n",
       "      <td>...</td>\n",
       "      <td>...</td>\n",
       "    </tr>\n",
       "    <tr>\n",
       "      <th>995</th>\n",
       "      <td>3</td>\n",
       "      <td>1</td>\n",
       "      <td>0</td>\n",
       "    </tr>\n",
       "    <tr>\n",
       "      <th>996</th>\n",
       "      <td>0</td>\n",
       "      <td>3</td>\n",
       "      <td>0</td>\n",
       "    </tr>\n",
       "    <tr>\n",
       "      <th>997</th>\n",
       "      <td>1</td>\n",
       "      <td>0</td>\n",
       "      <td>2</td>\n",
       "    </tr>\n",
       "    <tr>\n",
       "      <th>998</th>\n",
       "      <td>4</td>\n",
       "      <td>4</td>\n",
       "      <td>2</td>\n",
       "    </tr>\n",
       "    <tr>\n",
       "      <th>999</th>\n",
       "      <td>3</td>\n",
       "      <td>4</td>\n",
       "      <td>0</td>\n",
       "    </tr>\n",
       "  </tbody>\n",
       "</table>\n",
       "<p>1000 rows × 3 columns</p>\n",
       "</div>"
      ],
      "text/plain": [
       "     Make  Model  Condition\n",
       "0       1      4          0\n",
       "1       4      4          0\n",
       "2       0      2          2\n",
       "3       1      2          0\n",
       "4       0      2          0\n",
       "..    ...    ...        ...\n",
       "995     3      1          0\n",
       "996     0      3          0\n",
       "997     1      0          2\n",
       "998     4      4          2\n",
       "999     3      4          0\n",
       "\n",
       "[1000 rows x 3 columns]"
      ]
     },
     "execution_count": 26,
     "metadata": {},
     "output_type": "execute_result"
    }
   ],
   "source": [
    "# let show the new columns after encoding\n",
    "data_c"
   ]
  },
  {
   "cell_type": "code",
   "execution_count": 27,
   "id": "5077bfaf",
   "metadata": {
    "execution": {
     "iopub.execute_input": "2024-02-11T20:27:19.900329Z",
     "iopub.status.busy": "2024-02-11T20:27:19.899926Z",
     "iopub.status.idle": "2024-02-11T20:27:19.905715Z",
     "shell.execute_reply": "2024-02-11T20:27:19.904459Z"
    },
    "papermill": {
     "duration": 0.026977,
     "end_time": "2024-02-11T20:27:19.907657",
     "exception": false,
     "start_time": "2024-02-11T20:27:19.880680",
     "status": "completed"
    },
    "tags": []
   },
   "outputs": [],
   "source": [
    "# merge 2 data set \n",
    "frames = [data_c, data_n]\n",
    "  \n",
    "data = pd.concat(frames,axis=1)"
   ]
  },
  {
   "cell_type": "code",
   "execution_count": 28,
   "id": "95a6d1af",
   "metadata": {
    "execution": {
     "iopub.execute_input": "2024-02-11T20:27:19.944976Z",
     "iopub.status.busy": "2024-02-11T20:27:19.944509Z",
     "iopub.status.idle": "2024-02-11T20:27:19.957229Z",
     "shell.execute_reply": "2024-02-11T20:27:19.955900Z"
    },
    "papermill": {
     "duration": 0.034914,
     "end_time": "2024-02-11T20:27:19.960146",
     "exception": false,
     "start_time": "2024-02-11T20:27:19.925232",
     "status": "completed"
    },
    "tags": []
   },
   "outputs": [
    {
     "data": {
      "text/html": [
       "<div>\n",
       "<style scoped>\n",
       "    .dataframe tbody tr th:only-of-type {\n",
       "        vertical-align: middle;\n",
       "    }\n",
       "\n",
       "    .dataframe tbody tr th {\n",
       "        vertical-align: top;\n",
       "    }\n",
       "\n",
       "    .dataframe thead th {\n",
       "        text-align: right;\n",
       "    }\n",
       "</style>\n",
       "<table border=\"1\" class=\"dataframe\">\n",
       "  <thead>\n",
       "    <tr style=\"text-align: right;\">\n",
       "      <th></th>\n",
       "      <th>Make</th>\n",
       "      <th>Model</th>\n",
       "      <th>Condition</th>\n",
       "      <th>Year</th>\n",
       "      <th>Mileage</th>\n",
       "      <th>Price</th>\n",
       "    </tr>\n",
       "  </thead>\n",
       "  <tbody>\n",
       "    <tr>\n",
       "      <th>0</th>\n",
       "      <td>1</td>\n",
       "      <td>4</td>\n",
       "      <td>0</td>\n",
       "      <td>2022</td>\n",
       "      <td>18107</td>\n",
       "      <td>19094.75</td>\n",
       "    </tr>\n",
       "    <tr>\n",
       "      <th>1</th>\n",
       "      <td>4</td>\n",
       "      <td>4</td>\n",
       "      <td>0</td>\n",
       "      <td>2014</td>\n",
       "      <td>13578</td>\n",
       "      <td>27321.10</td>\n",
       "    </tr>\n",
       "    <tr>\n",
       "      <th>2</th>\n",
       "      <td>0</td>\n",
       "      <td>2</td>\n",
       "      <td>2</td>\n",
       "      <td>2016</td>\n",
       "      <td>46054</td>\n",
       "      <td>23697.30</td>\n",
       "    </tr>\n",
       "    <tr>\n",
       "      <th>3</th>\n",
       "      <td>1</td>\n",
       "      <td>2</td>\n",
       "      <td>0</td>\n",
       "      <td>2022</td>\n",
       "      <td>34981</td>\n",
       "      <td>18251.05</td>\n",
       "    </tr>\n",
       "    <tr>\n",
       "      <th>4</th>\n",
       "      <td>0</td>\n",
       "      <td>2</td>\n",
       "      <td>0</td>\n",
       "      <td>2019</td>\n",
       "      <td>63565</td>\n",
       "      <td>19821.85</td>\n",
       "    </tr>\n",
       "  </tbody>\n",
       "</table>\n",
       "</div>"
      ],
      "text/plain": [
       "   Make  Model  Condition  Year  Mileage     Price\n",
       "0     1      4          0  2022    18107  19094.75\n",
       "1     4      4          0  2014    13578  27321.10\n",
       "2     0      2          2  2016    46054  23697.30\n",
       "3     1      2          0  2022    34981  18251.05\n",
       "4     0      2          0  2019    63565  19821.85"
      ]
     },
     "execution_count": 28,
     "metadata": {},
     "output_type": "execute_result"
    }
   ],
   "source": [
    "#show the new dataframe after change the category columns\n",
    "data.head()"
   ]
  },
  {
   "cell_type": "code",
   "execution_count": 29,
   "id": "5d3b351d",
   "metadata": {
    "execution": {
     "iopub.execute_input": "2024-02-11T20:27:19.997460Z",
     "iopub.status.busy": "2024-02-11T20:27:19.997045Z",
     "iopub.status.idle": "2024-02-11T20:27:20.007066Z",
     "shell.execute_reply": "2024-02-11T20:27:20.006231Z"
    },
    "papermill": {
     "duration": 0.031602,
     "end_time": "2024-02-11T20:27:20.008902",
     "exception": false,
     "start_time": "2024-02-11T20:27:19.977300",
     "status": "completed"
    },
    "tags": []
   },
   "outputs": [
    {
     "name": "stdout",
     "output_type": "stream",
     "text": [
      "<class 'pandas.core.frame.DataFrame'>\n",
      "RangeIndex: 1000 entries, 0 to 999\n",
      "Data columns (total 6 columns):\n",
      " #   Column     Non-Null Count  Dtype  \n",
      "---  ------     --------------  -----  \n",
      " 0   Make       1000 non-null   int64  \n",
      " 1   Model      1000 non-null   int64  \n",
      " 2   Condition  1000 non-null   int64  \n",
      " 3   Year       1000 non-null   int64  \n",
      " 4   Mileage    1000 non-null   int64  \n",
      " 5   Price      1000 non-null   float64\n",
      "dtypes: float64(1), int64(5)\n",
      "memory usage: 47.0 KB\n"
     ]
    }
   ],
   "source": [
    "#show the data type - new dataframe\n",
    "data.info()"
   ]
  },
  {
   "cell_type": "markdown",
   "id": "7d948e28",
   "metadata": {
    "papermill": {
     "duration": 0.019267,
     "end_time": "2024-02-11T20:27:20.045910",
     "exception": false,
     "start_time": "2024-02-11T20:27:20.026643",
     "status": "completed"
    },
    "tags": []
   },
   "source": [
    "- 🧧 All the columns / Data type numerical"
   ]
  },
  {
   "cell_type": "markdown",
   "id": "01bd1076",
   "metadata": {
    "papermill": {
     "duration": 0.017298,
     "end_time": "2024-02-11T20:27:20.081356",
     "exception": false,
     "start_time": "2024-02-11T20:27:20.064058",
     "status": "completed"
    },
    "tags": []
   },
   "source": [
    "### 👓  Now split the Data 🎨"
   ]
  },
  {
   "cell_type": "code",
   "execution_count": 30,
   "id": "e1a6a648",
   "metadata": {
    "execution": {
     "iopub.execute_input": "2024-02-11T20:27:20.118570Z",
     "iopub.status.busy": "2024-02-11T20:27:20.118160Z",
     "iopub.status.idle": "2024-02-11T20:27:20.130466Z",
     "shell.execute_reply": "2024-02-11T20:27:20.129127Z"
    },
    "papermill": {
     "duration": 0.033594,
     "end_time": "2024-02-11T20:27:20.132528",
     "exception": false,
     "start_time": "2024-02-11T20:27:20.098934",
     "status": "completed"
    },
    "tags": []
   },
   "outputs": [
    {
     "name": "stdout",
     "output_type": "stream",
     "text": [
      "X Train :  (750, 5)\n",
      "X Test  :  (250, 5)\n",
      "Y Train :  (750,)\n",
      "Y Test  :  (250,)\n"
     ]
    }
   ],
   "source": [
    "#Defined X value and y value , and split the data train\n",
    "X = data.drop(columns=\"Price\")           \n",
    "y = data[\"Price\"]    # y = price\n",
    "\n",
    "# split the data train and test\n",
    "X_train, X_test, y_train, y_test = train_test_split(X, y, test_size=0.25, random_state=42) # split 25% test 75 % train\n",
    "\n",
    "print(\"X Train : \", X_train.shape)\n",
    "print(\"X Test  : \", X_test.shape)\n",
    "print(\"Y Train : \", y_train.shape)\n",
    "print(\"Y Test  : \", y_test.shape)"
   ]
  },
  {
   "cell_type": "code",
   "execution_count": 31,
   "id": "f259a3e7",
   "metadata": {
    "execution": {
     "iopub.execute_input": "2024-02-11T20:27:20.170963Z",
     "iopub.status.busy": "2024-02-11T20:27:20.170061Z",
     "iopub.status.idle": "2024-02-11T20:27:20.176244Z",
     "shell.execute_reply": "2024-02-11T20:27:20.175192Z"
    },
    "papermill": {
     "duration": 0.027834,
     "end_time": "2024-02-11T20:27:20.178777",
     "exception": false,
     "start_time": "2024-02-11T20:27:20.150943",
     "status": "completed"
    },
    "tags": []
   },
   "outputs": [],
   "source": [
    "#Defined object from library Regression  / from the libraries import before / 6 model\n",
    "\n",
    "LR = LinearRegression()\n",
    "DTR = DecisionTreeRegressor()\n",
    "RFR = RandomForestRegressor()\n",
    "KNR = KNeighborsRegressor()\n",
    "MLP = MLPRegressor()\n",
    "SVR = SVR()"
   ]
  },
  {
   "cell_type": "code",
   "execution_count": 32,
   "id": "1261c50a",
   "metadata": {
    "execution": {
     "iopub.execute_input": "2024-02-11T20:27:20.215532Z",
     "iopub.status.busy": "2024-02-11T20:27:20.215172Z",
     "iopub.status.idle": "2024-02-11T20:27:20.983518Z",
     "shell.execute_reply": "2024-02-11T20:27:20.982591Z"
    },
    "papermill": {
     "duration": 0.789754,
     "end_time": "2024-02-11T20:27:20.985952",
     "exception": false,
     "start_time": "2024-02-11T20:27:20.196198",
     "status": "completed"
    },
    "tags": []
   },
   "outputs": [
    {
     "name": "stderr",
     "output_type": "stream",
     "text": [
      "/opt/conda/lib/python3.10/site-packages/sklearn/neural_network/_multilayer_perceptron.py:686: ConvergenceWarning:\n",
      "\n",
      "Stochastic Optimizer: Maximum iterations (200) reached and the optimization hasn't converged yet.\n",
      "\n"
     ]
    }
   ],
   "source": [
    "# make for loop for Regression \n",
    "\n",
    "li = [LR ,DTR ,RFR ,KNR ,MLP  ,SVR ]\n",
    "score = []\n",
    "for i in li:\n",
    "    i.fit(X_train,y_train)   #traing the model\n",
    "    ypred = i.predict(X_test) # start to predct\n",
    "    score.append([i,r2_score(y_test,ypred)*100])\n",
    "    "
   ]
  },
  {
   "cell_type": "code",
   "execution_count": 33,
   "id": "175523ee",
   "metadata": {
    "execution": {
     "iopub.execute_input": "2024-02-11T20:27:21.036599Z",
     "iopub.status.busy": "2024-02-11T20:27:21.035860Z",
     "iopub.status.idle": "2024-02-11T20:27:21.086834Z",
     "shell.execute_reply": "2024-02-11T20:27:21.086143Z"
    },
    "papermill": {
     "duration": 0.078738,
     "end_time": "2024-02-11T20:27:21.088703",
     "exception": false,
     "start_time": "2024-02-11T20:27:21.009965",
     "status": "completed"
    },
    "tags": []
   },
   "outputs": [
    {
     "data": {
      "text/html": [
       "<div>\n",
       "<style scoped>\n",
       "    .dataframe tbody tr th:only-of-type {\n",
       "        vertical-align: middle;\n",
       "    }\n",
       "\n",
       "    .dataframe tbody tr th {\n",
       "        vertical-align: top;\n",
       "    }\n",
       "\n",
       "    .dataframe thead th {\n",
       "        text-align: right;\n",
       "    }\n",
       "</style>\n",
       "<table border=\"1\" class=\"dataframe\">\n",
       "  <thead>\n",
       "    <tr style=\"text-align: right;\">\n",
       "      <th></th>\n",
       "      <th>Model</th>\n",
       "      <th>Score</th>\n",
       "    </tr>\n",
       "  </thead>\n",
       "  <tbody>\n",
       "    <tr>\n",
       "      <th>0</th>\n",
       "      <td>LinearRegression()</td>\n",
       "      <td>100.000000</td>\n",
       "    </tr>\n",
       "    <tr>\n",
       "      <th>1</th>\n",
       "      <td>DecisionTreeRegressor()</td>\n",
       "      <td>99.673311</td>\n",
       "    </tr>\n",
       "    <tr>\n",
       "      <th>2</th>\n",
       "      <td>(DecisionTreeRegressor(max_features=1.0, rando...</td>\n",
       "      <td>99.910715</td>\n",
       "    </tr>\n",
       "    <tr>\n",
       "      <th>3</th>\n",
       "      <td>KNeighborsRegressor()</td>\n",
       "      <td>5.417759</td>\n",
       "    </tr>\n",
       "    <tr>\n",
       "      <th>4</th>\n",
       "      <td>MLPRegressor()</td>\n",
       "      <td>15.893572</td>\n",
       "    </tr>\n",
       "    <tr>\n",
       "      <th>5</th>\n",
       "      <td>SVR()</td>\n",
       "      <td>0.984155</td>\n",
       "    </tr>\n",
       "  </tbody>\n",
       "</table>\n",
       "</div>"
      ],
      "text/plain": [
       "                                               Model       Score\n",
       "0                                 LinearRegression()  100.000000\n",
       "1                            DecisionTreeRegressor()   99.673311\n",
       "2  (DecisionTreeRegressor(max_features=1.0, rando...   99.910715\n",
       "3                              KNeighborsRegressor()    5.417759\n",
       "4                                     MLPRegressor()   15.893572\n",
       "5                                              SVR()    0.984155"
      ]
     },
     "execution_count": 33,
     "metadata": {},
     "output_type": "execute_result"
    }
   ],
   "source": [
    "Score_df = pd.DataFrame(score)\n",
    "Score_df.columns =['Model', 'Score']\n",
    "Score_df"
   ]
  },
  {
   "cell_type": "markdown",
   "id": "fd9c13c2",
   "metadata": {
    "papermill": {
     "duration": 0.017759,
     "end_time": "2024-02-11T20:27:21.123754",
     "exception": false,
     "start_time": "2024-02-11T20:27:21.105995",
     "status": "completed"
    },
    "tags": []
   },
   "source": [
    " <div style = 'border : 3px solid non; background-color:#ffffff;font-family:Gabriola;color:#000080; ; ;padding:10px'>\n",
    "<p style=\"font-family:Georgia;padding:20px;line-height:25px;\";><font style=\"font-family:Georgia; font-size:150%;\">   </font>\n",
    "    <p style = \"font-size:200%; color:#800080\"> 📌 Result ML</p>"
   ]
  },
  {
   "cell_type": "markdown",
   "id": "8eaeb0cd",
   "metadata": {
    "papermill": {
     "duration": 0.018184,
     "end_time": "2024-02-11T20:27:21.159678",
     "exception": false,
     "start_time": "2024-02-11T20:27:21.141494",
     "status": "completed"
    },
    "tags": []
   },
   "source": [
    "- 🎁 In my opinion the 🏐DecisionTreeRegressor🏐 the best model 99.6 % , I think happened overfitting in other model"
   ]
  },
  {
   "cell_type": "markdown",
   "id": "64964ab2",
   "metadata": {
    "papermill": {
     "duration": 0.018056,
     "end_time": "2024-02-11T20:27:21.195999",
     "exception": false,
     "start_time": "2024-02-11T20:27:21.177943",
     "status": "completed"
    },
    "tags": []
   },
   "source": [
    "#  📲 Connect me:\n",
    "-  <a href=\"https://www.kaggle.com/qusaybtoush1990\">kaggle</a>\n",
    "-  <a href=\"https://www.linkedin.com/in/qusayal-btoush/\">Linkedin</a>\n",
    "-  <a href=\"https://github.com/qusaybtoush\">github</a>"
   ]
  },
  {
   "cell_type": "markdown",
   "id": "e6280a03",
   "metadata": {
    "papermill": {
     "duration": 0.017029,
     "end_time": "2024-02-11T20:27:21.231496",
     "exception": false,
     "start_time": "2024-02-11T20:27:21.214467",
     "status": "completed"
    },
    "tags": []
   },
   "source": [
    "# Vote ❤️😃\n",
    "- Please Upvote my kernel if you like my work.🙌\n",
    "\n",
    "# The End 🤝🎉🤝🎉\n",
    "### 🖐 Thank you 🙏"
   ]
  }
 ],
 "metadata": {
  "kaggle": {
   "accelerator": "none",
   "dataSources": [
    {
     "datasetId": 4424223,
     "sourceId": 7600123,
     "sourceType": "datasetVersion"
    }
   ],
   "dockerImageVersionId": 30646,
   "isGpuEnabled": false,
   "isInternetEnabled": true,
   "language": "python",
   "sourceType": "notebook"
  },
  "kernelspec": {
   "display_name": "Python 3",
   "language": "python",
   "name": "python3"
  },
  "language_info": {
   "codemirror_mode": {
    "name": "ipython",
    "version": 3
   },
   "file_extension": ".py",
   "mimetype": "text/x-python",
   "name": "python",
   "nbconvert_exporter": "python",
   "pygments_lexer": "ipython3",
   "version": "3.10.13"
  },
  "papermill": {
   "default_parameters": {},
   "duration": 14.741414,
   "end_time": "2024-02-11T20:27:22.071540",
   "environment_variables": {},
   "exception": null,
   "input_path": "__notebook__.ipynb",
   "output_path": "__notebook__.ipynb",
   "parameters": {},
   "start_time": "2024-02-11T20:27:07.330126",
   "version": "2.5.0"
  }
 },
 "nbformat": 4,
 "nbformat_minor": 5
}
